{
  "nbformat": 4,
  "nbformat_minor": 0,
  "metadata": {
    "colab": {
      "provenance": []
    },
    "kernelspec": {
      "name": "python3",
      "display_name": "Python 3"
    },
    "language_info": {
      "name": "python"
    }
  },
  "cells": [
    {
      "cell_type": "markdown",
      "source": [
        "DOWNLOADING DATASET"
      ],
      "metadata": {
        "id": "BnAUgZOpynez"
      }
    },
    {
      "cell_type": "code",
      "execution_count": 6,
      "metadata": {
        "colab": {
          "base_uri": "https://localhost:8080/"
        },
        "id": "UjuvKvoXGDjv",
        "outputId": "93fddef4-84be-443e-80c2-fb722f39ffce"
      },
      "outputs": [
        {
          "output_type": "stream",
          "name": "stdout",
          "text": [
            "Archive:  /content/archivee.zip\n",
            "replace Symptom-severity.csv? [y]es, [n]o, [A]ll, [N]one, [r]ename: y\n",
            "  inflating: Symptom-severity.csv    \n",
            "replace Training.csv? [y]es, [n]o, [A]ll, [N]one, [r]ename: y\n",
            "  inflating: Training.csv            \n",
            "replace description.csv? [y]es, [n]o, [A]ll, [N]one, [r]ename: y\n",
            "  inflating: description.csv         \n",
            "replace diets.csv? [y]es, [n]o, [A]ll, [N]one, [r]ename: y\n",
            "  inflating: diets.csv               \n",
            "replace medications.csv? [y]es, [n]o, [A]ll, [N]one, [r]ename: y\n",
            "  inflating: medications.csv         \n",
            "replace precautions_df.csv? [y]es, [n]o, [A]ll, [N]one, [r]ename: y\n",
            "  inflating: precautions_df.csv      \n",
            "replace symtoms_df.csv? [y]es, [n]o, [A]ll, [N]one, [r]ename: y\n",
            "  inflating: symtoms_df.csv          \n",
            "replace workout_df.csv? [y]es, [n]o, [A]ll, [N]one, [r]ename: y\n",
            "  inflating: workout_df.csv          \n"
          ]
        }
      ],
      "source": [
        "! unzip /content/archivee.zip"
      ]
    },
    {
      "cell_type": "markdown",
      "source": [
        "READING CSV FILES"
      ],
      "metadata": {
        "id": "yqzxFwilzIxH"
      }
    },
    {
      "cell_type": "code",
      "source": [
        "import pandas as pd\n",
        "df_symptom_severity=pd.read_csv('Symptom-severity.csv')\n",
        "import pandas as pd\n",
        "df_symptom_severity=pd.read_csv('Symptom-severity.csv')\n",
        "print(df_symptom_severity.head())\n",
        "print(df_symptom_severity.shape)\n",
        "print(df_symptom_severity.columns)\n",
        "print(df_symptom_severity.isnull().sum())\n",
        "print(df_symptom_severity.duplicated().sum())\n"
      ],
      "metadata": {
        "colab": {
          "base_uri": "https://localhost:8080/"
        },
        "id": "m3rjV1yQIUrJ",
        "outputId": "0886a707-7986-4c70-b063-cca57e1ccb64"
      },
      "execution_count": 7,
      "outputs": [
        {
          "output_type": "stream",
          "name": "stdout",
          "text": [
            "                Symptom  weight\n",
            "0               itching       1\n",
            "1             skin_rash       3\n",
            "2  nodal_skin_eruptions       4\n",
            "3   continuous_sneezing       4\n",
            "4             shivering       5\n",
            "(133, 2)\n",
            "Index(['Symptom', 'weight'], dtype='object')\n",
            "Symptom    0\n",
            "weight     0\n",
            "dtype: int64\n",
            "0\n"
          ]
        }
      ]
    },
    {
      "cell_type": "code",
      "source": [
        "df_description=pd.read_csv('description.csv')\n",
        "print(df_description.head())\n",
        "print(df_description.shape)\n"
      ],
      "metadata": {
        "colab": {
          "base_uri": "https://localhost:8080/"
        },
        "id": "fvoooTPPJezt",
        "outputId": "5935eaa0-01c2-42be-dfba-d26a60b9ed0c"
      },
      "execution_count": 8,
      "outputs": [
        {
          "output_type": "stream",
          "name": "stdout",
          "text": [
            "               Disease                                        Description\n",
            "0     Fungal infection  Fungal infection is a common skin condition ca...\n",
            "1              Allergy  Allergy is an immune system reaction to a subs...\n",
            "2                 GERD  GERD (Gastroesophageal Reflux Disease) is a di...\n",
            "3  Chronic cholestasis  Chronic cholestasis is a condition where bile ...\n",
            "4        Drug Reaction  Drug Reaction occurs when the body reacts adve...\n",
            "(41, 2)\n"
          ]
        }
      ]
    },
    {
      "cell_type": "code",
      "source": [
        "df_diets=pd.read_csv('diets.csv')\n",
        "print(df_diets.head())\n",
        "print(df_diets.shape)\n"
      ],
      "metadata": {
        "colab": {
          "base_uri": "https://localhost:8080/"
        },
        "id": "41VBNedwJzKx",
        "outputId": "03788d4c-25db-4cdf-e397-a54dcaf34c93"
      },
      "execution_count": 9,
      "outputs": [
        {
          "output_type": "stream",
          "name": "stdout",
          "text": [
            "               Disease                                               Diet\n",
            "0     Fungal infection  ['Antifungal Diet', 'Probiotics', 'Garlic', 'C...\n",
            "1              Allergy  ['Elimination Diet', 'Omega-3-rich foods', 'Vi...\n",
            "2                 GERD  ['Low-Acid Diet', 'Fiber-rich foods', 'Ginger'...\n",
            "3  Chronic cholestasis  ['Low-Fat Diet', 'High-Fiber Diet', 'Lean prot...\n",
            "4        Drug Reaction  ['Antihistamine Diet', 'Omega-3-rich foods', '...\n",
            "(41, 2)\n"
          ]
        }
      ]
    },
    {
      "cell_type": "code",
      "source": [
        "df_medications=pd.read_csv('medications.csv')\n",
        "print(df_medications.head())\n",
        "s=df_medications.shape\n",
        "print(s)"
      ],
      "metadata": {
        "colab": {
          "base_uri": "https://localhost:8080/"
        },
        "id": "sTWBIH92KddY",
        "outputId": "155ff8ea-6e95-42a1-b4bd-58d886414258"
      },
      "execution_count": 10,
      "outputs": [
        {
          "output_type": "stream",
          "name": "stdout",
          "text": [
            "               Disease                                         Medication\n",
            "0     Fungal infection  ['Antifungal Cream', 'Fluconazole', 'Terbinafi...\n",
            "1              Allergy  ['Antihistamines', 'Decongestants', 'Epinephri...\n",
            "2                 GERD  ['Proton Pump Inhibitors (PPIs)', 'H2 Blockers...\n",
            "3  Chronic cholestasis  ['Ursodeoxycholic acid', 'Cholestyramine', 'Me...\n",
            "4        Drug Reaction  ['Antihistamines', 'Epinephrine', 'Corticoster...\n",
            "(41, 2)\n"
          ]
        }
      ]
    },
    {
      "cell_type": "markdown",
      "source": [
        "CLEANING AND MANIPULATING DATA"
      ],
      "metadata": {
        "id": "nB-YYuG-zbab"
      }
    },
    {
      "cell_type": "code",
      "source": [
        "import pandas as pd\n",
        "df=pd.DataFrame({\"Disease\":df_description.Disease[:],\"description\":df_description.Description[:],\"medication\":df_medications.Medication[:],\"diet\":df_diets.Diet[:]})\n",
        "\n",
        "print(df.shape)\n",
        "print(df.columns)\n"
      ],
      "metadata": {
        "colab": {
          "base_uri": "https://localhost:8080/"
        },
        "id": "i2oXzF33RIQy",
        "outputId": "cff3e1c8-e8c1-4bb3-bfb8-a409191ca058"
      },
      "execution_count": 11,
      "outputs": [
        {
          "output_type": "stream",
          "name": "stdout",
          "text": [
            "(41, 4)\n",
            "Index(['Disease', 'description', 'medication', 'diet'], dtype='object')\n"
          ]
        }
      ]
    },
    {
      "cell_type": "code",
      "source": [
        "df_precautions=pd.read_csv('precautions_df.csv')\n",
        "print(df_precautions.head())\n",
        "print(df_precautions.shape)\n",
        "df_precautions.duplicated().sum()\n",
        "\n"
      ],
      "metadata": {
        "colab": {
          "base_uri": "https://localhost:8080/"
        },
        "id": "JQ00VgNKJ3jg",
        "outputId": "7a240b27-5eca-4d85-9642-0bcfa9882d33"
      },
      "execution_count": 12,
      "outputs": [
        {
          "output_type": "stream",
          "name": "stdout",
          "text": [
            "   Unnamed: 0         Disease                      Precaution_1  \\\n",
            "0           0   Drug Reaction                   stop irritation   \n",
            "1           1         Malaria          Consult nearest hospital   \n",
            "2           2         Allergy                    apply calamine   \n",
            "3           3  Hypothyroidism                     reduce stress   \n",
            "4           4       Psoriasis  wash hands with warm soapy water   \n",
            "\n",
            "                   Precaution_2        Precaution_3  \\\n",
            "0      consult nearest hospital    stop taking drug   \n",
            "1               avoid oily food  avoid non veg food   \n",
            "2       cover area with bandage                 NaN   \n",
            "3                      exercise         eat healthy   \n",
            "4  stop bleeding using pressure      consult doctor   \n",
            "\n",
            "                  Precaution_4  \n",
            "0                    follow up  \n",
            "1           keep mosquitos out  \n",
            "2  use ice to compress itching  \n",
            "3             get proper sleep  \n",
            "4                   salt baths  \n",
            "(41, 6)\n"
          ]
        },
        {
          "output_type": "execute_result",
          "data": {
            "text/plain": [
              "np.int64(0)"
            ]
          },
          "metadata": {},
          "execution_count": 12
        }
      ]
    },
    {
      "cell_type": "code",
      "source": [
        "common_diseases = set(df_precautions['Disease']).intersection(set(df['Disease']))\n",
        "\n",
        "print(\"Common diseases in both tables:\")\n",
        "print(common_diseases)\n",
        "print(len(common_diseases))"
      ],
      "metadata": {
        "colab": {
          "base_uri": "https://localhost:8080/"
        },
        "id": "4YzYnstSTYTt",
        "outputId": "8b552d28-d1f4-4e9b-b9ca-999b6e2c5072"
      },
      "execution_count": 13,
      "outputs": [
        {
          "output_type": "stream",
          "name": "stdout",
          "text": [
            "Common diseases in both tables:\n",
            "{'Dimorphic hemmorhoids(piles)', 'Cervical spondylosis', 'Hepatitis D', 'Hypoglycemia', 'Typhoid', 'Chicken pox', 'Drug Reaction', 'Dengue', 'Impetigo', 'Fungal infection', 'Arthritis', 'Hepatitis B', 'Heart attack', 'Osteoarthristis', 'Alcoholic hepatitis', 'Acne', 'Hypothyroidism', 'Hepatitis C', 'Migraine', 'Common Cold', 'Psoriasis', 'Urinary tract infection', 'AIDS', 'Jaundice', 'hepatitis A', 'Tuberculosis', 'Bronchial Asthma', 'Allergy', 'Pneumonia', 'Paralysis (brain hemorrhage)', 'Chronic cholestasis', 'Gastroenteritis', 'Hepatitis E', 'Malaria', 'Hyperthyroidism', 'GERD', 'Varicose veins'}\n",
            "37\n"
          ]
        }
      ]
    },
    {
      "cell_type": "code",
      "source": [
        "merged_data=pd.merge(df,df_precautions,on='Disease',how='left')\n",
        "merged_data.fillna(\"NA\", inplace=True)\n",
        "print(merged_data.shape)\n",
        "\n",
        "merged_data.drop(columns=['Unnamed: 0'], inplace=True)\n",
        "\n",
        "print(merged_data.columns)\n",
        "print(merged_data.shape)\n",
        "\n",
        "print(merged_data.Precaution_1[1])"
      ],
      "metadata": {
        "colab": {
          "base_uri": "https://localhost:8080/"
        },
        "id": "hTk0qrpiU6Zz",
        "outputId": "346fc056-15a9-4caa-9db6-2fb7158dc81e"
      },
      "execution_count": 14,
      "outputs": [
        {
          "output_type": "stream",
          "name": "stdout",
          "text": [
            "(41, 9)\n",
            "Index(['Disease', 'description', 'medication', 'diet', 'Precaution_1',\n",
            "       'Precaution_2', 'Precaution_3', 'Precaution_4'],\n",
            "      dtype='object')\n",
            "(41, 8)\n",
            "apply calamine\n"
          ]
        },
        {
          "output_type": "stream",
          "name": "stderr",
          "text": [
            "<ipython-input-14-5ee0fcd36382>:2: FutureWarning: Setting an item of incompatible dtype is deprecated and will raise an error in a future version of pandas. Value 'NA' has dtype incompatible with float64, please explicitly cast to a compatible dtype first.\n",
            "  merged_data.fillna(\"NA\", inplace=True)\n"
          ]
        }
      ]
    },
    {
      "cell_type": "code",
      "source": [
        "workouts=pd.read_csv('workout_df.csv')\n",
        "print(workouts.head())\n",
        "print(workouts.shape)"
      ],
      "metadata": {
        "colab": {
          "base_uri": "https://localhost:8080/"
        },
        "id": "bdiZeujnKw-E",
        "outputId": "1c33507d-e148-47ad-bcc0-f6812464b286"
      },
      "execution_count": 15,
      "outputs": [
        {
          "output_type": "stream",
          "name": "stdout",
          "text": [
            "   Unnamed: 0.1  Unnamed: 0           disease                    workout\n",
            "0             0           0  Fungal infection         Avoid sugary foods\n",
            "1             1           1  Fungal infection         Consume probiotics\n",
            "2             2           2  Fungal infection  Increase intake of garlic\n",
            "3             3           3  Fungal infection     Include yogurt in diet\n",
            "4             4           4  Fungal infection      Limit processed foods\n",
            "(410, 4)\n"
          ]
        }
      ]
    },
    {
      "cell_type": "code",
      "source": [
        "# Group workout advice by disease and create separate columns\n",
        "# Group workout advice by disease\n",
        "df_workout_grouped = workouts.groupby('disease')['workout'].apply(lambda x: ', '.join(x)).reset_index()\n",
        "\n",
        "# Rename columns for clarity\n",
        "df_workout_grouped.columns = ['Disease', 'Grouped_Workout_Advice']\n",
        "\n",
        "# Display the result\n",
        "print(df_workout_grouped.head())\n",
        "print(df_workout_grouped.shape)\n"
      ],
      "metadata": {
        "colab": {
          "base_uri": "https://localhost:8080/"
        },
        "id": "LJuvMhD2dDdO",
        "outputId": "b0b5ce16-14b7-43b1-b4fe-51a4375244be"
      },
      "execution_count": 16,
      "outputs": [
        {
          "output_type": "stream",
          "name": "stdout",
          "text": [
            "                                   Disease  \\\n",
            "0  (vertigo) Paroymsal  Positional Vertigo   \n",
            "1                                     AIDS   \n",
            "2                                     Acne   \n",
            "3                      Alcoholic hepatitis   \n",
            "4                                  Allergy   \n",
            "\n",
            "                              Grouped_Workout_Advice  \n",
            "0  Avoid trigger foods (caffeine, alcohol), Limit...  \n",
            "1  Follow a balanced and nutritious diet, Include...  \n",
            "2  Consume a balanced diet, Limit dairy and high-...  \n",
            "3  Avoid alcohol consumption, Follow a balanced a...  \n",
            "4  Avoid allergenic foods, Consume anti-inflammat...  \n",
            "(41, 2)\n"
          ]
        }
      ]
    },
    {
      "cell_type": "code",
      "source": [
        "common_diseases = set(df_workout_grouped['Disease']).intersection(set(merged_data['Disease']))\n",
        "print(len(common_diseases))\n",
        "\n",
        "merged_data3=pd.merge(merged_data,df_workout_grouped,on='Disease',how='left')\n",
        "merged_data3.fillna(\"NA\", inplace=True)\n",
        "print(merged_data3.shape)\n",
        "print(merged_data3.columns)\n",
        "print(merged_data3.duplicated().sum())\n",
        "new_data3=merged_data3.drop_duplicates()\n",
        "print(new_data3.shape)\n",
        "new_data3.to_csv('new_data3.csv',index=False)"
      ],
      "metadata": {
        "colab": {
          "base_uri": "https://localhost:8080/"
        },
        "id": "2xQorvvVgzXs",
        "outputId": "c288d885-459c-44b2-894a-b795254b61bc"
      },
      "execution_count": 17,
      "outputs": [
        {
          "output_type": "stream",
          "name": "stdout",
          "text": [
            "40\n",
            "(41, 9)\n",
            "Index(['Disease', 'description', 'medication', 'diet', 'Precaution_1',\n",
            "       'Precaution_2', 'Precaution_3', 'Precaution_4',\n",
            "       'Grouped_Workout_Advice'],\n",
            "      dtype='object')\n",
            "0\n",
            "(41, 9)\n"
          ]
        }
      ]
    },
    {
      "cell_type": "code",
      "source": [
        "new_data3.rename(columns={'Grouped_Workout_Advice': 'Workout_Advice'}, inplace=True)"
      ],
      "metadata": {
        "id": "Y3pkkJ6Vlt8r"
      },
      "execution_count": 18,
      "outputs": []
    },
    {
      "cell_type": "markdown",
      "source": [
        "CREATING TEST DATASET"
      ],
      "metadata": {
        "id": "bwJE7UJQzzsO"
      }
    },
    {
      "cell_type": "code",
      "source": [
        "import pandas as pd\n",
        "\n",
        "# Load datasets\n",
        "training_df = pd.read_csv(\"/content/Training.csv\")  # Update with the correct path\n",
        "symptoms_df = pd.read_csv(\"/content/symtoms_df.csv\")  # Update with the correct path\n",
        "\n",
        "\n",
        "# Extract all symptom columns from training dataset (excluding 'prognosis')\n",
        "symptom_columns = training_df.columns[:-1]\n",
        "\n",
        "# Standardize symptom names in training dataset\n",
        "symptom_columns = symptom_columns.str.strip().str.lower()\n",
        "\n",
        "# Initialize an empty dataframe with the same structure as training_df\n",
        "test_transformed = pd.DataFrame(0, index=symptoms_df.index, columns=symptom_columns)\n",
        "\n",
        "# Fill in the test dataset based on symptom presence\n",
        "for i, row in symptoms_df.iterrows():\n",
        "    for symptom_col in ['Symptom_1', 'Symptom_2', 'Symptom_3', 'Symptom_4']:\n",
        "        symptom = str(row[symptom_col]).strip().lower()\n",
        "        if symptom in test_transformed.columns:\n",
        "            test_transformed.at[i, symptom] = 1\n",
        "\n",
        "# Add the disease column\n",
        "test_transformed['prognosis'] = symptoms_df['Disease']\n",
        "\n",
        "# Remove rows where all symptom values are zero\n",
        "test_transformed = test_transformed.loc[(test_transformed[symptom_columns] != 0).any(axis=1)]\n",
        "\n",
        "# Verify mapping correctness\n",
        "print(\"First few rows of the original symptoms dataset:\")\n",
        "print(symptoms_df.head())\n",
        "print(\"\\nFirst few rows of the transformed dataset:\")\n",
        "print(test_transformed.head())\n",
        "\n",
        "# Check the number of rows in the new dataframe\n",
        "print(f\"Number of rows in transformed dataset: {test_transformed.shape[0]}\")\n",
        "\n",
        "\n",
        "test_transformed.to_csv(\"/content/transformed_test.csv\", index=False)  # Update with desired save path\n"
      ],
      "metadata": {
        "colab": {
          "base_uri": "https://localhost:8080/"
        },
        "id": "0MPcW78nuQQC",
        "outputId": "77dd366e-427e-4774-b1ac-00a9ff19e3f3"
      },
      "execution_count": 19,
      "outputs": [
        {
          "output_type": "stream",
          "name": "stdout",
          "text": [
            "First few rows of the original symptoms dataset:\n",
            "   Unnamed: 0           Disease   Symptom_1              Symptom_2  \\\n",
            "0           0  Fungal infection     itching              skin_rash   \n",
            "1           1  Fungal infection   skin_rash   nodal_skin_eruptions   \n",
            "2           2  Fungal infection     itching   nodal_skin_eruptions   \n",
            "3           3  Fungal infection     itching              skin_rash   \n",
            "4           4  Fungal infection     itching              skin_rash   \n",
            "\n",
            "               Symptom_3             Symptom_4  \n",
            "0   nodal_skin_eruptions   dischromic _patches  \n",
            "1    dischromic _patches                   NaN  \n",
            "2    dischromic _patches                   NaN  \n",
            "3    dischromic _patches                   NaN  \n",
            "4   nodal_skin_eruptions                   NaN  \n",
            "\n",
            "First few rows of the transformed dataset:\n",
            "   itching  skin_rash  nodal_skin_eruptions  continuous_sneezing  shivering  \\\n",
            "0        1          1                     1                    0          0   \n",
            "1        0          1                     1                    0          0   \n",
            "2        1          0                     1                    0          0   \n",
            "3        1          1                     0                    0          0   \n",
            "4        1          1                     1                    0          0   \n",
            "\n",
            "   chills  joint_pain  stomach_pain  acidity  ulcers_on_tongue  ...  \\\n",
            "0       0           0             0        0                 0  ...   \n",
            "1       0           0             0        0                 0  ...   \n",
            "2       0           0             0        0                 0  ...   \n",
            "3       0           0             0        0                 0  ...   \n",
            "4       0           0             0        0                 0  ...   \n",
            "\n",
            "   blackheads  scurring  skin_peeling  silver_like_dusting  \\\n",
            "0           0         0             0                    0   \n",
            "1           0         0             0                    0   \n",
            "2           0         0             0                    0   \n",
            "3           0         0             0                    0   \n",
            "4           0         0             0                    0   \n",
            "\n",
            "   small_dents_in_nails  inflammatory_nails  blister  red_sore_around_nose  \\\n",
            "0                     0                   0        0                     0   \n",
            "1                     0                   0        0                     0   \n",
            "2                     0                   0        0                     0   \n",
            "3                     0                   0        0                     0   \n",
            "4                     0                   0        0                     0   \n",
            "\n",
            "   yellow_crust_ooze         prognosis  \n",
            "0                  0  Fungal infection  \n",
            "1                  0  Fungal infection  \n",
            "2                  0  Fungal infection  \n",
            "3                  0  Fungal infection  \n",
            "4                  0  Fungal infection  \n",
            "\n",
            "[5 rows x 133 columns]\n",
            "Number of rows in transformed dataset: 4920\n"
          ]
        }
      ]
    },
    {
      "cell_type": "markdown",
      "source": [
        "RANDOM FOREST CLASSIFIER"
      ],
      "metadata": {
        "id": "UhZoWz6N1IDV"
      }
    },
    {
      "cell_type": "code",
      "source": [
        "\n",
        "import pandas as pd\n",
        "from sklearn.model_selection import train_test_split\n",
        "from sklearn.ensemble import RandomForestClassifier\n",
        "from sklearn.metrics import accuracy_score, classification_report\n",
        "\n",
        "# Load datasets\n",
        "train_df = pd.read_csv(\"/content/Training.csv\")  # Update with actual path\n",
        "test_df = pd.read_csv(\"/content/transformed_test.csv\")  # Update with actual path\n",
        "\n",
        "# Extract features and target variable\n",
        "X_train = train_df.drop(columns=['prognosis'])  # Features\n",
        "y_train = train_df['prognosis']  # Target\n",
        "X_test = test_df.drop(columns=['prognosis'])\n",
        "y_test = test_df['prognosis']\n",
        "\n",
        "# Train the model\n",
        "model = RandomForestClassifier(n_estimators=100, random_state=42)\n",
        "model.fit(X_train, y_train)\n",
        "\n",
        "# Make predictions\n",
        "y_pred = model.predict(X_test)\n",
        "\n",
        "# Evaluate the model\n",
        "accuracy = accuracy_score(y_test, y_pred)\n",
        "report = classification_report(y_test, y_pred)\n",
        "\n",
        "# Print evaluation metrics\n",
        "print(f\"Accuracy: {accuracy:.4f}\")\n",
        "print(\"Classification Report:\")\n",
        "print(report)\n"
      ],
      "metadata": {
        "colab": {
          "base_uri": "https://localhost:8080/"
        },
        "id": "hQ3MCQQLl13v",
        "outputId": "9d9081b6-8a61-439e-9336-d302ef0f30c0"
      },
      "execution_count": 20,
      "outputs": [
        {
          "output_type": "stream",
          "name": "stdout",
          "text": [
            "Accuracy: 0.7098\n",
            "Classification Report:\n",
            "                                         precision    recall  f1-score   support\n",
            "\n",
            "(vertigo) Paroymsal  Positional Vertigo       1.00      1.00      1.00       120\n",
            "                                   AIDS       1.00      1.00      1.00       120\n",
            "                                   Acne       0.95      1.00      0.98       120\n",
            "                    Alcoholic hepatitis       1.00      1.00      1.00       120\n",
            "                                Allergy       0.34      1.00      0.51       120\n",
            "                              Arthritis       1.00      1.00      1.00       120\n",
            "                       Bronchial Asthma       0.48      1.00      0.65       120\n",
            "                   Cervical spondylosis       1.00      1.00      1.00       120\n",
            "                            Chicken pox       0.00      0.00      0.00       120\n",
            "                    Chronic cholestasis       1.00      1.00      1.00       120\n",
            "                            Common Cold       0.00      0.00      0.00       120\n",
            "                                 Dengue       0.00      0.00      0.00       120\n",
            "                              Diabetes        1.00      1.00      1.00       120\n",
            "           Dimorphic hemmorhoids(piles)       1.00      1.00      1.00       120\n",
            "                          Drug Reaction       1.00      1.00      1.00       120\n",
            "                       Fungal infection       0.54      1.00      0.70       120\n",
            "                                   GERD       1.00      1.00      1.00       120\n",
            "                        Gastroenteritis       1.00      1.00      1.00       120\n",
            "                           Heart attack       0.33      1.00      0.49       120\n",
            "                            Hepatitis B       0.00      0.00      0.00       120\n",
            "                            Hepatitis C       1.00      1.00      1.00       120\n",
            "                            Hepatitis D       0.46      0.95      0.62       120\n",
            "                            Hepatitis E       0.00      0.00      0.00       120\n",
            "                          Hypertension        1.00      1.00      1.00       120\n",
            "                        Hyperthyroidism       0.00      0.00      0.00       120\n",
            "                           Hypoglycemia       0.00      0.00      0.00       120\n",
            "                         Hypothyroidism       1.00      0.10      0.18       120\n",
            "                               Impetigo       0.91      1.00      0.95       120\n",
            "                               Jaundice       0.21      1.00      0.35       120\n",
            "                                Malaria       1.00      0.05      0.10       120\n",
            "                               Migraine       1.00      1.00      1.00       120\n",
            "                        Osteoarthristis       1.00      1.00      1.00       120\n",
            "           Paralysis (brain hemorrhage)       0.91      1.00      0.95       120\n",
            "                    Peptic ulcer diseae       1.00      1.00      1.00       120\n",
            "                              Pneumonia       0.00      0.00      0.00       120\n",
            "                              Psoriasis       1.00      1.00      1.00       120\n",
            "                           Tuberculosis       0.00      0.00      0.00       120\n",
            "                                Typhoid       1.00      1.00      1.00       120\n",
            "                Urinary tract infection       1.00      1.00      1.00       120\n",
            "                         Varicose veins       0.53      1.00      0.69       120\n",
            "                            hepatitis A       0.00      0.00      0.00       120\n",
            "\n",
            "                               accuracy                           0.71      4920\n",
            "                              macro avg       0.65      0.71      0.64      4920\n",
            "                           weighted avg       0.65      0.71      0.64      4920\n",
            "\n"
          ]
        },
        {
          "output_type": "stream",
          "name": "stderr",
          "text": [
            "/usr/local/lib/python3.11/dist-packages/sklearn/metrics/_classification.py:1565: UndefinedMetricWarning: Precision is ill-defined and being set to 0.0 in labels with no predicted samples. Use `zero_division` parameter to control this behavior.\n",
            "  _warn_prf(average, modifier, f\"{metric.capitalize()} is\", len(result))\n",
            "/usr/local/lib/python3.11/dist-packages/sklearn/metrics/_classification.py:1565: UndefinedMetricWarning: Precision is ill-defined and being set to 0.0 in labels with no predicted samples. Use `zero_division` parameter to control this behavior.\n",
            "  _warn_prf(average, modifier, f\"{metric.capitalize()} is\", len(result))\n",
            "/usr/local/lib/python3.11/dist-packages/sklearn/metrics/_classification.py:1565: UndefinedMetricWarning: Precision is ill-defined and being set to 0.0 in labels with no predicted samples. Use `zero_division` parameter to control this behavior.\n",
            "  _warn_prf(average, modifier, f\"{metric.capitalize()} is\", len(result))\n"
          ]
        }
      ]
    },
    {
      "cell_type": "code",
      "source": [
        "\n",
        "import numpy as np\n",
        "import pandas as pd\n",
        "import matplotlib.pyplot as plt\n",
        "from sklearn.ensemble import RandomForestClassifier\n",
        "from sklearn.model_selection import learning_curve\n",
        "\n",
        "train_sizes, train_scores, test_scores = learning_curve(\n",
        "    RandomForestClassifier(n_estimators=100, random_state=42),\n",
        "    X_train, y_train, cv=5, scoring='accuracy', train_sizes=np.linspace(0.1, 1.0, 10)\n",
        ")\n",
        "\n",
        "# Compute mean and standard deviation\n",
        "train_mean = np.mean(train_scores, axis=1)\n",
        "train_std = np.std(train_scores, axis=1)\n",
        "test_mean = np.mean(test_scores, axis=1)\n",
        "test_std = np.std(test_scores, axis=1)\n",
        "\n",
        "# Plot learning curve\n",
        "plt.figure(figsize=(6,4))\n",
        "plt.plot(train_sizes, train_mean, label=\"Training Accuracy\", color=\"blue\", marker=\"o\")\n",
        "plt.fill_between(train_sizes, train_mean - train_std, train_mean + train_std, alpha=0.2, color=\"blue\")\n",
        "plt.plot(train_sizes, test_mean, label=\"Validation Accuracy\", color=\"green\", marker=\"o\")\n",
        "plt.fill_between(train_sizes, test_mean - test_std, test_mean + test_std, alpha=0.2, color=\"green\")\n",
        "\n",
        "# Labels and title\n",
        "plt.xlabel(\"Training Samples\")\n",
        "plt.ylabel(\"Accuracy Score\")\n",
        "plt.title(\"Learning Curve for RandomForestClassifier\")\n",
        "plt.legend()\n",
        "plt.grid()\n",
        "plt.show()"
      ],
      "metadata": {
        "colab": {
          "base_uri": "https://localhost:8080/",
          "height": 410
        },
        "id": "8fgg-GAi3_aF",
        "outputId": "6dec6ee7-95cb-4dfe-ef69-fedb1d2a5a0d"
      },
      "execution_count": 72,
      "outputs": [
        {
          "output_type": "display_data",
          "data": {
            "text/plain": [
              "<Figure size 600x400 with 1 Axes>"
            ],
            "image/png": "[encoded data removed]"
          },
          "metadata": {}
        }
      ]
    },
    {
      "cell_type": "code",
      "source": [
        "import pandas as pd\n",
        "\n",
        "# Load both CSV files\n",
        "csv1 = pd.read_csv(\"/content/transformed_test.csv\")  # Update with actual path\n",
        "csv2 = pd.read_csv(\"/content/Training.csv\")  # Update with actual path\n",
        "\n",
        "# Ensure both dataframes have the same column order and remove duplicates\n",
        "csv1 = csv1.sort_index(axis=1).drop_duplicates()\n",
        "csv2 = csv2.sort_index(axis=1).drop_duplicates()\n",
        "\n",
        "# Find matching rows by performing an inner merge without duplicates\n",
        "matching_rows = csv1.merge(csv2, how='inner').drop_duplicates()\n",
        "\n",
        "# Count the number of unique identical rows\n",
        "num_matching_rows = matching_rows.shape[0]\n",
        "\n",
        "# Print the number of matching rows\n",
        "print(f\"Number of unique matching rows: {num_matching_rows}\")\n"
      ],
      "metadata": {
        "id": "bT2RFpFasaZV",
        "colab": {
          "base_uri": "https://localhost:8080/"
        },
        "outputId": "5e4675b8-fcae-4cce-de42-05f9a7ca7e6a"
      },
      "execution_count": 21,
      "outputs": [
        {
          "output_type": "stream",
          "name": "stdout",
          "text": [
            "Number of unique matching rows: 70\n"
          ]
        }
      ]
    },
    {
      "cell_type": "markdown",
      "source": [
        "XGB CLASSIFIER"
      ],
      "metadata": {
        "id": "KK3-ovCG1Yup"
      }
    },
    {
      "cell_type": "code",
      "source": [
        "import pandas as pd\n",
        "from sklearn.model_selection import train_test_split\n",
        "from sklearn.ensemble import RandomForestClassifier\n",
        "from sklearn.metrics import accuracy_score, classification_report\n",
        "from xgboost import XGBClassifier\n",
        "from sklearn.preprocessing import LabelEncoder\n",
        "\n",
        "# Load datasets\n",
        "train_df = pd.read_csv(\"/content/Training.csv\")  # Update with actual path\n",
        "test_df = pd.read_csv(\"/content/transformed_test.csv\")  # Update with actual path\n",
        "\n",
        "# Extract features and target variable\n",
        "X_train = train_df.drop(columns=['prognosis'])  # Features\n",
        "y_train = train_df['prognosis']  # Target\n",
        "X_test = test_df.drop(columns=['prognosis'])\n",
        "y_test = test_df['prognosis']\n",
        "\n",
        "# Create a LabelEncoder object\n",
        "label_encoder = LabelEncoder()\n",
        "\n",
        "# Fit the encoder on the training data and transform both train and test labels\n",
        "y_train_encoded = label_encoder.fit_transform(y_train)\n",
        "y_test_encoded = label_encoder.transform(y_test)\n",
        "\n",
        "# Train the model using the encoded labels\n",
        "model = XGBClassifier(n_estimators=200, learning_rate=0.05, max_depth=10, random_state=42)\n",
        "model.fit(X_train, y_train_encoded) # Pass the encoded y_train\n",
        "\n",
        "# Make predictions using the encoded labels\n",
        "y_pred_encoded = model.predict(X_test)\n",
        "\n",
        "# Inverse transform the predictions to get original labels\n",
        "y_pred = label_encoder.inverse_transform(y_pred_encoded)\n",
        "\n",
        "# Evaluate the model using the original labels\n",
        "accuracy = accuracy_score(y_test, y_pred)\n",
        "report = classification_report(y_test, y_pred)\n",
        "\n",
        "# Print evaluation metrics\n",
        "print(f\"Accuracy: {accuracy:.4f}\")\n",
        "print(\"Classification Report:\")\n",
        "print(report)\n"
      ],
      "metadata": {
        "id": "jnfH8FpKuAVS",
        "colab": {
          "base_uri": "https://localhost:8080/"
        },
        "outputId": "98f5b1cc-c635-4af4-b676-494043cbd6ba"
      },
      "execution_count": 22,
      "outputs": [
        {
          "output_type": "stream",
          "name": "stdout",
          "text": [
            "Accuracy: 0.6207\n",
            "Classification Report:\n",
            "                                         precision    recall  f1-score   support\n",
            "\n",
            "(vertigo) Paroymsal  Positional Vertigo       1.00      1.00      1.00       120\n",
            "                                   AIDS       0.37      1.00      0.54       120\n",
            "                                   Acne       0.95      1.00      0.98       120\n",
            "                    Alcoholic hepatitis       0.95      1.00      0.98       120\n",
            "                                Allergy       0.51      1.00      0.68       120\n",
            "                              Arthritis       1.00      1.00      1.00       120\n",
            "                       Bronchial Asthma       0.26      0.30      0.28       120\n",
            "                   Cervical spondylosis       1.00      1.00      1.00       120\n",
            "                            Chicken pox       0.00      0.00      0.00       120\n",
            "                    Chronic cholestasis       0.56      1.00      0.71       120\n",
            "                            Common Cold       0.00      0.00      0.00       120\n",
            "                                 Dengue       0.00      0.00      0.00       120\n",
            "                              Diabetes        0.00      0.00      0.00       120\n",
            "           Dimorphic hemmorhoids(piles)       1.00      1.00      1.00       120\n",
            "                          Drug Reaction       1.00      1.00      1.00       120\n",
            "                       Fungal infection       0.56      1.00      0.71       120\n",
            "                                   GERD       0.95      1.00      0.98       120\n",
            "                        Gastroenteritis       1.00      1.00      1.00       120\n",
            "                           Heart attack       0.27      1.00      0.43       120\n",
            "                            Hepatitis B       0.00      0.00      0.00       120\n",
            "                            Hepatitis C       1.00      0.20      0.33       120\n",
            "                            Hepatitis D       0.31      0.95      0.47       120\n",
            "                            Hepatitis E       0.00      0.00      0.00       120\n",
            "                          Hypertension        1.00      1.00      1.00       120\n",
            "                        Hyperthyroidism       0.00      0.00      0.00       120\n",
            "                           Hypoglycemia       0.00      0.00      0.00       120\n",
            "                         Hypothyroidism       0.00      0.00      0.00       120\n",
            "                               Impetigo       0.91      1.00      0.95       120\n",
            "                               Jaundice       0.20      1.00      0.34       120\n",
            "                                Malaria       0.00      0.00      0.00       120\n",
            "                               Migraine       1.00      1.00      1.00       120\n",
            "                        Osteoarthristis       1.00      1.00      1.00       120\n",
            "           Paralysis (brain hemorrhage)       0.71      1.00      0.83       120\n",
            "                    Peptic ulcer diseae       1.00      1.00      1.00       120\n",
            "                              Pneumonia       0.00      0.00      0.00       120\n",
            "                              Psoriasis       0.56      1.00      0.71       120\n",
            "                           Tuberculosis       0.00      0.00      0.00       120\n",
            "                                Typhoid       0.00      0.00      0.00       120\n",
            "                Urinary tract infection       1.00      1.00      1.00       120\n",
            "                         Varicose veins       1.00      1.00      1.00       120\n",
            "                            hepatitis A       0.00      0.00      0.00       120\n",
            "\n",
            "                               accuracy                           0.62      4920\n",
            "                              macro avg       0.51      0.62      0.53      4920\n",
            "                           weighted avg       0.51      0.62      0.53      4920\n",
            "\n"
          ]
        },
        {
          "output_type": "stream",
          "name": "stderr",
          "text": [
            "/usr/local/lib/python3.11/dist-packages/sklearn/metrics/_classification.py:1565: UndefinedMetricWarning: Precision is ill-defined and being set to 0.0 in labels with no predicted samples. Use `zero_division` parameter to control this behavior.\n",
            "  _warn_prf(average, modifier, f\"{metric.capitalize()} is\", len(result))\n",
            "/usr/local/lib/python3.11/dist-packages/sklearn/metrics/_classification.py:1565: UndefinedMetricWarning: Precision is ill-defined and being set to 0.0 in labels with no predicted samples. Use `zero_division` parameter to control this behavior.\n",
            "  _warn_prf(average, modifier, f\"{metric.capitalize()} is\", len(result))\n",
            "/usr/local/lib/python3.11/dist-packages/sklearn/metrics/_classification.py:1565: UndefinedMetricWarning: Precision is ill-defined and being set to 0.0 in labels with no predicted samples. Use `zero_division` parameter to control this behavior.\n",
            "  _warn_prf(average, modifier, f\"{metric.capitalize()} is\", len(result))\n"
          ]
        }
      ]
    },
    {
      "cell_type": "code",
      "source": [
        "\n",
        "import numpy as np\n",
        "import pandas as pd\n",
        "import matplotlib.pyplot as plt\n",
        "from xgboost import XGBClassifier\n",
        "from sklearn.model_selection import learning_curve\n",
        "\n",
        "train_sizes, train_scores, test_scores = learning_curve(\n",
        "    XGBClassifier(n_estimators=100, random_state=42),\n",
        "    X_train, y_train, cv=5, scoring='accuracy', train_sizes=np.linspace(0.1, 1.0, 10)\n",
        ")\n",
        "\n",
        "# Compute mean and standard deviation\n",
        "train_mean = np.mean(train_scores, axis=1)\n",
        "train_std = np.std(train_scores, axis=1)\n",
        "test_mean = np.mean(test_scores, axis=1)\n",
        "test_std = np.std(test_scores, axis=1)\n",
        "\n",
        "# Plot learning curve\n",
        "plt.figure(figsize=(6,4))\n",
        "plt.plot(train_sizes, train_mean, label=\"Training Accuracy\", color=\"blue\", marker=\"o\")\n",
        "plt.fill_between(train_sizes, train_mean - train_std, train_mean + train_std, alpha=0.2, color=\"blue\")\n",
        "plt.plot(train_sizes, test_mean, label=\"Validation Accuracy\", color=\"green\", marker=\"o\")\n",
        "plt.fill_between(train_sizes, test_mean - test_std, test_mean + test_std, alpha=0.2, color=\"green\")\n",
        "\n",
        "# Labels and title\n",
        "plt.xlabel(\"Training Samples\")\n",
        "plt.ylabel(\"Accuracy Score\")\n",
        "plt.title(\"Learning Curve for XGBClassifier\")\n",
        "plt.legend()\n",
        "plt.grid()\n",
        "plt.show()"
      ],
      "metadata": {
        "colab": {
          "base_uri": "https://localhost:8080/",
          "height": 410
        },
        "id": "t-yFsyNjHEmu",
        "outputId": "39aba798-ca24-4cc9-910b-47335651583f"
      },
      "execution_count": 71,
      "outputs": [
        {
          "output_type": "display_data",
          "data": {
            "text/plain": [
              "<Figure size 600x400 with 1 Axes>"
            ],
            "image/png": "[encoded data removed]"
          },
          "metadata": {}
        }
      ]
    },
    {
      "cell_type": "markdown",
      "source": [
        "DEEP LEARNING USING TENSORFLOW -50 epochs"
      ],
      "metadata": {
        "id": "q_f8MhRB1pU5"
      }
    },
    {
      "cell_type": "code",
      "source": [
        "import pandas as pd\n",
        "import tensorflow as tf\n",
        "from tensorflow import keras\n",
        "from sklearn.preprocessing import LabelEncoder, StandardScaler\n",
        "from sklearn.metrics import accuracy_score, classification_report\n",
        "\n",
        "# Load datasets\n",
        "train_df = pd.read_csv(\"/content/Training.csv\")  # Update with actual path\n",
        "test_df = pd.read_csv(\"/content/transformed_test.csv\")  # Update with actual path\n",
        "# Extract features and target variable\n",
        "X_train = train_df.drop(columns=['prognosis'])  # Features\n",
        "y_train = train_df['prognosis']  # Target\n",
        "X_test = test_df.drop(columns=['prognosis'])\n",
        "y_test = test_df['prognosis']\n",
        "\n",
        "# Standardize features\n",
        "scaler = StandardScaler()\n",
        "X_train = scaler.fit_transform(X_train)\n",
        "X_test = scaler.transform(X_test)\n",
        "\n",
        "# Encode target labels\n",
        "encoder = LabelEncoder()\n",
        "y_train = encoder.fit_transform(y_train)\n",
        "y_test = encoder.transform(y_test)\n",
        "\n",
        "# Convert labels to categorical\n",
        "num_classes = len(encoder.classes_)\n",
        "y_train = keras.utils.to_categorical(y_train, num_classes)\n",
        "y_test = keras.utils.to_categorical(y_test, num_classes)\n",
        "\n",
        "# Build Deep Learning Model\n",
        "model = keras.Sequential([\n",
        "    keras.layers.Dense(128, activation='relu', input_shape=(X_train.shape[1],)),\n",
        "    keras.layers.Dense(64, activation='relu'),\n",
        "    keras.layers.Dense(32, activation='relu'),\n",
        "    keras.layers.Dense(num_classes, activation='softmax')\n",
        "])\n",
        "\n",
        "# Compile model\n",
        "model.compile(optimizer='adam', loss='categorical_crossentropy', metrics=['accuracy'])\n",
        "\n",
        "# Train model\n",
        "history =model.fit(X_train, y_train, epochs=50, batch_size=16, validation_data=(X_test, y_test))\n",
        "\n",
        "# Evaluate model\n",
        "y_pred = model.predict(X_test)\n",
        "y_pred_labels = y_pred.argmax(axis=1)\n",
        "y_test_labels = y_test.argmax(axis=1)\n",
        "\n",
        "accuracy = accuracy_score(y_test_labels, y_pred_labels)\n",
        "report = classification_report(y_test_labels, y_pred_labels, target_names=encoder.classes_)\n",
        "\n",
        "# Print evaluation metrics\n",
        "print(f\"Accuracy: {accuracy:.4f}\")\n",
        "print(\"Classification Report:\")\n",
        "print(report)\n"
      ],
      "metadata": {
        "id": "l4pkN3b9uBeC",
        "colab": {
          "base_uri": "https://localhost:8080/"
        },
        "outputId": "cca7e93d-69ec-4ec1-e434-bbdc3936e102"
      },
      "execution_count": 61,
      "outputs": [
        {
          "output_type": "stream",
          "name": "stdout",
          "text": [
            "Epoch 1/50\n"
          ]
        },
        {
          "output_type": "stream",
          "name": "stderr",
          "text": [
            "/usr/local/lib/python3.11/dist-packages/keras/src/layers/core/dense.py:87: UserWarning: Do not pass an `input_shape`/`input_dim` argument to a layer. When using Sequential models, prefer using an `Input(shape)` object as the first layer in the model instead.\n",
            "  super().__init__(activity_regularizer=activity_regularizer, **kwargs)\n"
          ]
        },
        {
          "output_type": "stream",
          "name": "stdout",
          "text": [
            "\u001b[1m308/308\u001b[0m \u001b[32m━━━━━━━━━━━━━━━━━━━━\u001b[0m\u001b[37m\u001b[0m \u001b[1m9s\u001b[0m 12ms/step - accuracy: 0.6700 - loss: 1.6143 - val_accuracy: 0.7329 - val_loss: 1.2963\n",
            "Epoch 2/50\n",
            "\u001b[1m308/308\u001b[0m \u001b[32m━━━━━━━━━━━━━━━━━━━━\u001b[0m\u001b[37m\u001b[0m \u001b[1m4s\u001b[0m 14ms/step - accuracy: 1.0000 - loss: 0.0048 - val_accuracy: 0.7159 - val_loss: 1.2921\n",
            "Epoch 3/50\n",
            "\u001b[1m308/308\u001b[0m \u001b[32m━━━━━━━━━━━━━━━━━━━━\u001b[0m\u001b[37m\u001b[0m \u001b[1m4s\u001b[0m 9ms/step - accuracy: 1.0000 - loss: 0.0013 - val_accuracy: 0.7146 - val_loss: 1.3340\n",
            "Epoch 4/50\n",
            "\u001b[1m308/308\u001b[0m \u001b[32m━━━━━━━━━━━━━━━━━━━━\u001b[0m\u001b[37m\u001b[0m \u001b[1m3s\u001b[0m 8ms/step - accuracy: 1.0000 - loss: 6.2140e-04 - val_accuracy: 0.7146 - val_loss: 1.3622\n",
            "Epoch 5/50\n",
            "\u001b[1m308/308\u001b[0m \u001b[32m━━━━━━━━━━━━━━━━━━━━\u001b[0m\u001b[37m\u001b[0m \u001b[1m5s\u001b[0m 8ms/step - accuracy: 1.0000 - loss: 3.2549e-04 - val_accuracy: 0.7134 - val_loss: 1.3840\n",
            "Epoch 6/50\n",
            "\u001b[1m308/308\u001b[0m \u001b[32m━━━━━━━━━━━━━━━━━━━━\u001b[0m\u001b[37m\u001b[0m \u001b[1m2s\u001b[0m 6ms/step - accuracy: 1.0000 - loss: 2.4609e-04 - val_accuracy: 0.7134 - val_loss: 1.4023\n",
            "Epoch 7/50\n",
            "\u001b[1m308/308\u001b[0m \u001b[32m━━━━━━━━━━━━━━━━━━━━\u001b[0m\u001b[37m\u001b[0m \u001b[1m2s\u001b[0m 4ms/step - accuracy: 1.0000 - loss: 1.5959e-04 - val_accuracy: 0.7134 - val_loss: 1.4333\n",
            "Epoch 8/50\n",
            "\u001b[1m308/308\u001b[0m \u001b[32m━━━━━━━━━━━━━━━━━━━━\u001b[0m\u001b[37m\u001b[0m \u001b[1m2s\u001b[0m 5ms/step - accuracy: 1.0000 - loss: 1.1366e-04 - val_accuracy: 0.7134 - val_loss: 1.4417\n",
            "Epoch 9/50\n",
            "\u001b[1m308/308\u001b[0m \u001b[32m━━━━━━━━━━━━━━━━━━━━\u001b[0m\u001b[37m\u001b[0m \u001b[1m2s\u001b[0m 5ms/step - accuracy: 1.0000 - loss: 8.8515e-05 - val_accuracy: 0.7134 - val_loss: 1.4681\n",
            "Epoch 10/50\n",
            "\u001b[1m308/308\u001b[0m \u001b[32m━━━━━━━━━━━━━━━━━━━━\u001b[0m\u001b[37m\u001b[0m \u001b[1m2s\u001b[0m 4ms/step - accuracy: 1.0000 - loss: 6.4947e-05 - val_accuracy: 0.7134 - val_loss: 1.4766\n",
            "Epoch 11/50\n",
            "\u001b[1m308/308\u001b[0m \u001b[32m━━━━━━━━━━━━━━━━━━━━\u001b[0m\u001b[37m\u001b[0m \u001b[1m3s\u001b[0m 7ms/step - accuracy: 1.0000 - loss: 5.0245e-05 - val_accuracy: 0.7134 - val_loss: 1.4926\n",
            "Epoch 12/50\n",
            "\u001b[1m308/308\u001b[0m \u001b[32m━━━━━━━━━━━━━━━━━━━━\u001b[0m\u001b[37m\u001b[0m \u001b[1m1s\u001b[0m 4ms/step - accuracy: 1.0000 - loss: 3.9043e-05 - val_accuracy: 0.7134 - val_loss: 1.5206\n",
            "Epoch 13/50\n",
            "\u001b[1m308/308\u001b[0m \u001b[32m━━━━━━━━━━━━━━━━━━━━\u001b[0m\u001b[37m\u001b[0m \u001b[1m3s\u001b[0m 4ms/step - accuracy: 1.0000 - loss: 3.3799e-05 - val_accuracy: 0.7134 - val_loss: 1.5279\n",
            "Epoch 14/50\n",
            "\u001b[1m308/308\u001b[0m \u001b[32m━━━━━━━━━━━━━━━━━━━━\u001b[0m\u001b[37m\u001b[0m \u001b[1m1s\u001b[0m 5ms/step - accuracy: 1.0000 - loss: 2.5431e-05 - val_accuracy: 0.7146 - val_loss: 1.5497\n",
            "Epoch 15/50\n",
            "\u001b[1m308/308\u001b[0m \u001b[32m━━━━━━━━━━━━━━━━━━━━\u001b[0m\u001b[37m\u001b[0m \u001b[1m3s\u001b[0m 5ms/step - accuracy: 1.0000 - loss: 2.1973e-05 - val_accuracy: 0.7159 - val_loss: 1.5690\n",
            "Epoch 16/50\n",
            "\u001b[1m308/308\u001b[0m \u001b[32m━━━━━━━━━━━━━━━━━━━━\u001b[0m\u001b[37m\u001b[0m \u001b[1m2s\u001b[0m 5ms/step - accuracy: 1.0000 - loss: 1.7029e-05 - val_accuracy: 0.7354 - val_loss: 1.5711\n",
            "Epoch 17/50\n",
            "\u001b[1m308/308\u001b[0m \u001b[32m━━━━━━━━━━━━━━━━━━━━\u001b[0m\u001b[37m\u001b[0m \u001b[1m3s\u001b[0m 8ms/step - accuracy: 1.0000 - loss: 1.3457e-05 - val_accuracy: 0.7159 - val_loss: 1.5856\n",
            "Epoch 18/50\n",
            "\u001b[1m308/308\u001b[0m \u001b[32m━━━━━━━━━━━━━━━━━━━━\u001b[0m\u001b[37m\u001b[0m \u001b[1m2s\u001b[0m 5ms/step - accuracy: 1.0000 - loss: 1.0808e-05 - val_accuracy: 0.7354 - val_loss: 1.6089\n",
            "Epoch 19/50\n",
            "\u001b[1m308/308\u001b[0m \u001b[32m━━━━━━━━━━━━━━━━━━━━\u001b[0m\u001b[37m\u001b[0m \u001b[1m1s\u001b[0m 5ms/step - accuracy: 1.0000 - loss: 8.5122e-06 - val_accuracy: 0.7341 - val_loss: 1.6297\n",
            "Epoch 20/50\n",
            "\u001b[1m308/308\u001b[0m \u001b[32m━━━━━━━━━━━━━━━━━━━━\u001b[0m\u001b[37m\u001b[0m \u001b[1m2s\u001b[0m 4ms/step - accuracy: 1.0000 - loss: 7.6451e-06 - val_accuracy: 0.7341 - val_loss: 1.6498\n",
            "Epoch 21/50\n",
            "\u001b[1m308/308\u001b[0m \u001b[32m━━━━━━━━━━━━━━━━━━━━\u001b[0m\u001b[37m\u001b[0m \u001b[1m1s\u001b[0m 5ms/step - accuracy: 1.0000 - loss: 6.3963e-06 - val_accuracy: 0.7341 - val_loss: 1.6637\n",
            "Epoch 22/50\n",
            "\u001b[1m308/308\u001b[0m \u001b[32m━━━━━━━━━━━━━━━━━━━━\u001b[0m\u001b[37m\u001b[0m \u001b[1m2s\u001b[0m 4ms/step - accuracy: 1.0000 - loss: 5.0188e-06 - val_accuracy: 0.7341 - val_loss: 1.6797\n",
            "Epoch 23/50\n",
            "\u001b[1m308/308\u001b[0m \u001b[32m━━━━━━━━━━━━━━━━━━━━\u001b[0m\u001b[37m\u001b[0m \u001b[1m2s\u001b[0m 8ms/step - accuracy: 1.0000 - loss: 4.6520e-06 - val_accuracy: 0.7341 - val_loss: 1.6966\n",
            "Epoch 24/50\n",
            "\u001b[1m308/308\u001b[0m \u001b[32m━━━━━━━━━━━━━━━━━━━━\u001b[0m\u001b[37m\u001b[0m \u001b[1m2s\u001b[0m 6ms/step - accuracy: 1.0000 - loss: 3.5907e-06 - val_accuracy: 0.7341 - val_loss: 1.7164\n",
            "Epoch 25/50\n",
            "\u001b[1m308/308\u001b[0m \u001b[32m━━━━━━━━━━━━━━━━━━━━\u001b[0m\u001b[37m\u001b[0m \u001b[1m2s\u001b[0m 5ms/step - accuracy: 1.0000 - loss: 2.8867e-06 - val_accuracy: 0.7341 - val_loss: 1.7190\n",
            "Epoch 26/50\n",
            "\u001b[1m308/308\u001b[0m \u001b[32m━━━━━━━━━━━━━━━━━━━━\u001b[0m\u001b[37m\u001b[0m \u001b[1m1s\u001b[0m 4ms/step - accuracy: 1.0000 - loss: 2.6253e-06 - val_accuracy: 0.7341 - val_loss: 1.7449\n",
            "Epoch 27/50\n",
            "\u001b[1m308/308\u001b[0m \u001b[32m━━━━━━━━━━━━━━━━━━━━\u001b[0m\u001b[37m\u001b[0m \u001b[1m3s\u001b[0m 5ms/step - accuracy: 1.0000 - loss: 2.0866e-06 - val_accuracy: 0.7341 - val_loss: 1.7585\n",
            "Epoch 28/50\n",
            "\u001b[1m308/308\u001b[0m \u001b[32m━━━━━━━━━━━━━━━━━━━━\u001b[0m\u001b[37m\u001b[0m \u001b[1m2s\u001b[0m 4ms/step - accuracy: 1.0000 - loss: 1.5510e-06 - val_accuracy: 0.7341 - val_loss: 1.7809\n",
            "Epoch 29/50\n",
            "\u001b[1m308/308\u001b[0m \u001b[32m━━━━━━━━━━━━━━━━━━━━\u001b[0m\u001b[37m\u001b[0m \u001b[1m2s\u001b[0m 8ms/step - accuracy: 1.0000 - loss: 1.4176e-06 - val_accuracy: 0.7341 - val_loss: 1.7984\n",
            "Epoch 30/50\n",
            "\u001b[1m308/308\u001b[0m \u001b[32m━━━━━━━━━━━━━━━━━━━━\u001b[0m\u001b[37m\u001b[0m \u001b[1m2s\u001b[0m 5ms/step - accuracy: 1.0000 - loss: 1.1635e-06 - val_accuracy: 0.7341 - val_loss: 1.8047\n",
            "Epoch 31/50\n",
            "\u001b[1m308/308\u001b[0m \u001b[32m━━━━━━━━━━━━━━━━━━━━\u001b[0m\u001b[37m\u001b[0m \u001b[1m2s\u001b[0m 5ms/step - accuracy: 1.0000 - loss: 9.3877e-07 - val_accuracy: 0.7341 - val_loss: 1.8264\n",
            "Epoch 32/50\n",
            "\u001b[1m308/308\u001b[0m \u001b[32m━━━━━━━━━━━━━━━━━━━━\u001b[0m\u001b[37m\u001b[0m \u001b[1m3s\u001b[0m 5ms/step - accuracy: 1.0000 - loss: 7.9935e-07 - val_accuracy: 0.7341 - val_loss: 1.8341\n",
            "Epoch 33/50\n",
            "\u001b[1m308/308\u001b[0m \u001b[32m━━━━━━━━━━━━━━━━━━━━\u001b[0m\u001b[37m\u001b[0m \u001b[1m1s\u001b[0m 5ms/step - accuracy: 1.0000 - loss: 7.3455e-07 - val_accuracy: 0.7341 - val_loss: 1.8532\n",
            "Epoch 34/50\n",
            "\u001b[1m308/308\u001b[0m \u001b[32m━━━━━━━━━━━━━━━━━━━━\u001b[0m\u001b[37m\u001b[0m \u001b[1m2s\u001b[0m 4ms/step - accuracy: 1.0000 - loss: 5.8349e-07 - val_accuracy: 0.7341 - val_loss: 1.8732\n",
            "Epoch 35/50\n",
            "\u001b[1m308/308\u001b[0m \u001b[32m━━━━━━━━━━━━━━━━━━━━\u001b[0m\u001b[37m\u001b[0m \u001b[1m3s\u001b[0m 9ms/step - accuracy: 1.0000 - loss: 5.1702e-07 - val_accuracy: 0.7341 - val_loss: 1.8896\n",
            "Epoch 36/50\n",
            "\u001b[1m308/308\u001b[0m \u001b[32m━━━━━━━━━━━━━━━━━━━━\u001b[0m\u001b[37m\u001b[0m \u001b[1m1s\u001b[0m 5ms/step - accuracy: 1.0000 - loss: 3.9505e-07 - val_accuracy: 0.7341 - val_loss: 1.9016\n",
            "Epoch 37/50\n",
            "\u001b[1m308/308\u001b[0m \u001b[32m━━━━━━━━━━━━━━━━━━━━\u001b[0m\u001b[37m\u001b[0m \u001b[1m3s\u001b[0m 4ms/step - accuracy: 1.0000 - loss: 3.1313e-07 - val_accuracy: 0.7341 - val_loss: 1.9250\n",
            "Epoch 38/50\n",
            "\u001b[1m308/308\u001b[0m \u001b[32m━━━━━━━━━━━━━━━━━━━━\u001b[0m\u001b[37m\u001b[0m \u001b[1m2s\u001b[0m 4ms/step - accuracy: 1.0000 - loss: 2.8129e-07 - val_accuracy: 0.7341 - val_loss: 1.9385\n",
            "Epoch 39/50\n",
            "\u001b[1m308/308\u001b[0m \u001b[32m━━━━━━━━━━━━━━━━━━━━\u001b[0m\u001b[37m\u001b[0m \u001b[1m3s\u001b[0m 4ms/step - accuracy: 1.0000 - loss: 2.1546e-07 - val_accuracy: 0.7341 - val_loss: 1.9600\n",
            "Epoch 40/50\n",
            "\u001b[1m308/308\u001b[0m \u001b[32m━━━━━━━━━━━━━━━━━━━━\u001b[0m\u001b[37m\u001b[0m \u001b[1m4s\u001b[0m 9ms/step - accuracy: 1.0000 - loss: 2.0374e-07 - val_accuracy: 0.7341 - val_loss: 1.9695\n",
            "Epoch 41/50\n",
            "\u001b[1m308/308\u001b[0m \u001b[32m━━━━━━━━━━━━━━━━━━━━\u001b[0m\u001b[37m\u001b[0m \u001b[1m4s\u001b[0m 4ms/step - accuracy: 1.0000 - loss: 1.6580e-07 - val_accuracy: 0.7341 - val_loss: 1.9914\n",
            "Epoch 42/50\n",
            "\u001b[1m308/308\u001b[0m \u001b[32m━━━━━━━━━━━━━━━━━━━━\u001b[0m\u001b[37m\u001b[0m \u001b[1m2s\u001b[0m 5ms/step - accuracy: 1.0000 - loss: 1.3658e-07 - val_accuracy: 0.7341 - val_loss: 2.0172\n",
            "Epoch 43/50\n",
            "\u001b[1m308/308\u001b[0m \u001b[32m━━━━━━━━━━━━━━━━━━━━\u001b[0m\u001b[37m\u001b[0m \u001b[1m2s\u001b[0m 5ms/step - accuracy: 1.0000 - loss: 1.1926e-07 - val_accuracy: 0.7341 - val_loss: 2.0254\n",
            "Epoch 44/50\n",
            "\u001b[1m308/308\u001b[0m \u001b[32m━━━━━━━━━━━━━━━━━━━━\u001b[0m\u001b[37m\u001b[0m \u001b[1m2s\u001b[0m 4ms/step - accuracy: 1.0000 - loss: 9.1171e-08 - val_accuracy: 0.7341 - val_loss: 2.0371\n",
            "Epoch 45/50\n",
            "\u001b[1m308/308\u001b[0m \u001b[32m━━━━━━━━━━━━━━━━━━━━\u001b[0m\u001b[37m\u001b[0m \u001b[1m3s\u001b[0m 7ms/step - accuracy: 1.0000 - loss: 8.6529e-08 - val_accuracy: 0.7341 - val_loss: 2.0615\n",
            "Epoch 46/50\n",
            "\u001b[1m308/308\u001b[0m \u001b[32m━━━━━━━━━━━━━━━━━━━━\u001b[0m\u001b[37m\u001b[0m \u001b[1m2s\u001b[0m 5ms/step - accuracy: 1.0000 - loss: 6.7698e-08 - val_accuracy: 0.7341 - val_loss: 2.0713\n",
            "Epoch 47/50\n",
            "\u001b[1m308/308\u001b[0m \u001b[32m━━━━━━━━━━━━━━━━━━━━\u001b[0m\u001b[37m\u001b[0m \u001b[1m2s\u001b[0m 7ms/step - accuracy: 1.0000 - loss: 5.6397e-08 - val_accuracy: 0.7341 - val_loss: 2.0989\n",
            "Epoch 48/50\n",
            "\u001b[1m308/308\u001b[0m \u001b[32m━━━━━━━━━━━━━━━━━━━━\u001b[0m\u001b[37m\u001b[0m \u001b[1m2s\u001b[0m 5ms/step - accuracy: 1.0000 - loss: 4.9856e-08 - val_accuracy: 0.7341 - val_loss: 2.1172\n",
            "Epoch 49/50\n",
            "\u001b[1m308/308\u001b[0m \u001b[32m━━━━━━━━━━━━━━━━━━━━\u001b[0m\u001b[37m\u001b[0m \u001b[1m2s\u001b[0m 5ms/step - accuracy: 1.0000 - loss: 4.0938e-08 - val_accuracy: 0.7341 - val_loss: 2.1157\n",
            "Epoch 50/50\n",
            "\u001b[1m308/308\u001b[0m \u001b[32m━━━━━━━━━━━━━━━━━━━━\u001b[0m\u001b[37m\u001b[0m \u001b[1m1s\u001b[0m 4ms/step - accuracy: 1.0000 - loss: 3.4072e-08 - val_accuracy: 0.7341 - val_loss: 2.1328\n",
            "\u001b[1m154/154\u001b[0m \u001b[32m━━━━━━━━━━━━━━━━━━━━\u001b[0m\u001b[37m\u001b[0m \u001b[1m0s\u001b[0m 2ms/step\n",
            "Accuracy: 0.7341\n",
            "Classification Report:\n",
            "                                         precision    recall  f1-score   support\n",
            "\n",
            "(vertigo) Paroymsal  Positional Vertigo       1.00      1.00      1.00       120\n",
            "                                   AIDS       1.00      1.00      1.00       120\n",
            "                                   Acne       1.00      1.00      1.00       120\n",
            "                    Alcoholic hepatitis       0.95      1.00      0.98       120\n",
            "                                Allergy       0.50      1.00      0.67       120\n",
            "                              Arthritis       1.00      1.00      1.00       120\n",
            "                       Bronchial Asthma       0.91      1.00      0.95       120\n",
            "                   Cervical spondylosis       1.00      1.00      1.00       120\n",
            "                            Chicken pox       1.00      0.10      0.18       120\n",
            "                    Chronic cholestasis       1.00      1.00      1.00       120\n",
            "                            Common Cold       0.00      0.00      0.00       120\n",
            "                                 Dengue       0.00      0.00      0.00       120\n",
            "                              Diabetes        1.00      0.15      0.26       120\n",
            "           Dimorphic hemmorhoids(piles)       1.00      1.00      1.00       120\n",
            "                          Drug Reaction       0.56      1.00      0.71       120\n",
            "                       Fungal infection       0.49      1.00      0.66       120\n",
            "                                   GERD       1.00      1.00      1.00       120\n",
            "                        Gastroenteritis       1.00      1.00      1.00       120\n",
            "                           Heart attack       0.51      1.00      0.68       120\n",
            "                            Hepatitis B       0.00      0.00      0.00       120\n",
            "                            Hepatitis C       0.51      1.00      0.68       120\n",
            "                            Hepatitis D       0.32      0.95      0.48       120\n",
            "                            Hepatitis E       0.00      0.00      0.00       120\n",
            "                          Hypertension        0.51      1.00      0.68       120\n",
            "                        Hyperthyroidism       1.00      0.90      0.95       120\n",
            "                           Hypoglycemia       1.00      0.05      0.10       120\n",
            "                         Hypothyroidism       1.00      1.00      1.00       120\n",
            "                               Impetigo       1.00      1.00      1.00       120\n",
            "                               Jaundice       0.25      1.00      0.40       120\n",
            "                                Malaria       1.00      0.95      0.97       120\n",
            "                               Migraine       1.00      1.00      1.00       120\n",
            "                        Osteoarthristis       1.00      1.00      1.00       120\n",
            "           Paralysis (brain hemorrhage)       0.95      1.00      0.98       120\n",
            "                    Peptic ulcer diseae       0.95      1.00      0.98       120\n",
            "                              Pneumonia       0.00      0.00      0.00       120\n",
            "                              Psoriasis       1.00      1.00      1.00       120\n",
            "                           Tuberculosis       0.00      0.00      0.00       120\n",
            "                                Typhoid       0.00      0.00      0.00       120\n",
            "                Urinary tract infection       1.00      1.00      1.00       120\n",
            "                         Varicose veins       1.00      1.00      1.00       120\n",
            "                            hepatitis A       0.00      0.00      0.00       120\n",
            "\n",
            "                               accuracy                           0.73      4920\n",
            "                              macro avg       0.69      0.73      0.67      4920\n",
            "                           weighted avg       0.69      0.73      0.67      4920\n",
            "\n"
          ]
        },
        {
          "output_type": "stream",
          "name": "stderr",
          "text": [
            "/usr/local/lib/python3.11/dist-packages/sklearn/metrics/_classification.py:1565: UndefinedMetricWarning: Precision is ill-defined and being set to 0.0 in labels with no predicted samples. Use `zero_division` parameter to control this behavior.\n",
            "  _warn_prf(average, modifier, f\"{metric.capitalize()} is\", len(result))\n",
            "/usr/local/lib/python3.11/dist-packages/sklearn/metrics/_classification.py:1565: UndefinedMetricWarning: Precision is ill-defined and being set to 0.0 in labels with no predicted samples. Use `zero_division` parameter to control this behavior.\n",
            "  _warn_prf(average, modifier, f\"{metric.capitalize()} is\", len(result))\n",
            "/usr/local/lib/python3.11/dist-packages/sklearn/metrics/_classification.py:1565: UndefinedMetricWarning: Precision is ill-defined and being set to 0.0 in labels with no predicted samples. Use `zero_division` parameter to control this behavior.\n",
            "  _warn_prf(average, modifier, f\"{metric.capitalize()} is\", len(result))\n"
          ]
        }
      ]
    },
    {
      "cell_type": "code",
      "source": [
        "# Plot accuracy curve\n",
        "plt.figure(figsize=(6,4))\n",
        "plt.plot(history.history['accuracy'], label=\"Training Accuracy\", color='blue', marker=\"o\")\n",
        "plt.plot(history.history['val_accuracy'], label=\"Validation Accuracy\", color='green', marker=\"o\")\n",
        "plt.xlabel(\"Epochs\")\n",
        "plt.ylabel(\"Accuracy\")\n",
        "plt.title(\"Training vs Validation Accuracy\")\n",
        "plt.legend()\n",
        "plt.grid()\n",
        "plt.show()\n"
      ],
      "metadata": {
        "colab": {
          "base_uri": "https://localhost:8080/",
          "height": 410
        },
        "id": "pkst7-bUIpLR",
        "outputId": "3f580fda-d00e-4022-beeb-7670ad8b2fe8"
      },
      "execution_count": 70,
      "outputs": [
        {
          "output_type": "display_data",
          "data": {
            "text/plain": [
              "<Figure size 600x400 with 1 Axes>"
            ],
            "image/png": "[encoded data removed]"
          },
          "metadata": {}
        }
      ]
    },
    {
      "cell_type": "markdown",
      "source": [
        "DEEP LEARNING USING TENSORFLOW -100 epochs"
      ],
      "metadata": {
        "id": "dRvgURc60riX"
      }
    },
    {
      "cell_type": "code",
      "source": [
        "import pandas as pd\n",
        "import numpy as np\n",
        "import tensorflow as tf\n",
        "from tensorflow import keras\n",
        "from sklearn.preprocessing import LabelEncoder, MinMaxScaler\n",
        "from sklearn.metrics import accuracy_score, classification_report\n",
        "\n",
        "# Load datasets\n",
        "train_df = pd.read_csv(\"/content/Training.csv\")  # Update with actual path\n",
        "test_df = pd.read_csv(\"/content/transformed_test.csv\")  # Update with actual path\n",
        "new_data_df = pd.read_csv(\"/content/new_data3.csv\")  # Load new dataset\n",
        "\n",
        "# Extract features and target variable\n",
        "X_train = train_df.drop(columns=['prognosis'])  # Features\n",
        "y_train = train_df['prognosis']  # Target\n",
        "X_test = test_df.drop(columns=['prognosis'])\n",
        "y_test = test_df['prognosis']\n",
        "\n",
        "# Standardize features\n",
        "scaler = MinMaxScaler()\n",
        "X_train = scaler.fit_transform(X_train)\n",
        "X_test = scaler.transform(X_test)\n",
        "\n",
        "# Encode target labels\n",
        "encoder = LabelEncoder()\n",
        "y_train = encoder.fit_transform(y_train)\n",
        "y_test = encoder.transform(y_test)\n",
        "\n",
        "# Convert labels to categorical\n",
        "num_classes = len(encoder.classes_)\n",
        "y_train = keras.utils.to_categorical(y_train, num_classes)\n",
        "y_test = keras.utils.to_categorical(y_test, num_classes)\n",
        "\n",
        "# Build Improved Deep Learning Model\n",
        "model = keras.Sequential([\n",
        "    keras.layers.Dense(256, activation='relu', input_shape=(X_train.shape[1],)),\n",
        "    keras.layers.Dropout(0.3),\n",
        "    keras.layers.Dense(128, activation='relu'),\n",
        "    keras.layers.Dropout(0.3),\n",
        "    keras.layers.Dense(64, activation='relu'),\n",
        "    keras.layers.Dense(num_classes, activation='softmax')\n",
        "])\n",
        "\n",
        "# Compile model with learning rate scheduler\n",
        "optimizer = keras.optimizers.AdamW(learning_rate=0.001)\n",
        "model.compile(optimizer=optimizer, loss='categorical_crossentropy', metrics=['accuracy'])\n",
        "\n",
        "\n",
        "\n",
        "# Early stopping & learning rate scheduler\n",
        "early_stopping = keras.callbacks.EarlyStopping(monitor='val_loss', patience=10, restore_best_weights=True)\n",
        "lr_scheduler = keras.callbacks.ReduceLROnPlateau(monitor='val_loss', factor=0.5, patience=5, min_lr=1e-5)\n",
        "\n",
        "# Train model\n",
        "history=model.fit(X_train, y_train, epochs=100, batch_size=32, validation_data=(X_test, y_test), callbacks=[early_stopping, lr_scheduler])\n",
        "\n",
        "# Evaluate model\n",
        "y_pred = model.predict(X_test)\n",
        "y_pred_labels = y_pred.argmax(axis=1)\n",
        "y_test_labels = y_test.argmax(axis=1)\n",
        "\n",
        "accuracy = accuracy_score(y_test_labels, y_pred_labels)\n",
        "report = classification_report(y_test_labels, y_pred_labels, target_names=encoder.classes_)\n",
        "\n",
        "# Print evaluation metrics\n",
        "print(f\"Accuracy: {accuracy:.4f}\")\n",
        "print(\"Classification Report:\")\n",
        "print(report)\n",
        "\n",
        "model.save(\"/content/disease_model.h5\")\n",
        "import joblib\n",
        "joblib.dump(scaler, \"/content/scaler.pkl\")\n",
        "joblib.dump(encoder, \"/content/encoder.pkl\")\n"
      ],
      "metadata": {
        "colab": {
          "base_uri": "https://localhost:8080/"
        },
        "id": "r5FaEA6BdvTh",
        "outputId": "50a4161a-8f6b-4e68-d1ac-91361233e338"
      },
      "execution_count": 65,
      "outputs": [
        {
          "output_type": "stream",
          "name": "stderr",
          "text": [
            "/usr/local/lib/python3.11/dist-packages/keras/src/layers/core/dense.py:87: UserWarning: Do not pass an `input_shape`/`input_dim` argument to a layer. When using Sequential models, prefer using an `Input(shape)` object as the first layer in the model instead.\n",
            "  super().__init__(activity_regularizer=activity_regularizer, **kwargs)\n"
          ]
        },
        {
          "output_type": "stream",
          "name": "stdout",
          "text": [
            "Epoch 1/100\n",
            "\u001b[1m154/154\u001b[0m \u001b[32m━━━━━━━━━━━━━━━━━━━━\u001b[0m\u001b[37m\u001b[0m \u001b[1m5s\u001b[0m 11ms/step - accuracy: 0.4114 - loss: 2.6056 - val_accuracy: 0.7927 - val_loss: 0.7049 - learning_rate: 0.0010\n",
            "Epoch 2/100\n",
            "\u001b[1m154/154\u001b[0m \u001b[32m━━━━━━━━━━━━━━━━━━━━\u001b[0m\u001b[37m\u001b[0m \u001b[1m2s\u001b[0m 7ms/step - accuracy: 0.9971 - loss: 0.0495 - val_accuracy: 0.8280 - val_loss: 0.5982 - learning_rate: 0.0010\n",
            "Epoch 3/100\n",
            "\u001b[1m154/154\u001b[0m \u001b[32m━━━━━━━━━━━━━━━━━━━━\u001b[0m\u001b[37m\u001b[0m \u001b[1m1s\u001b[0m 6ms/step - accuracy: 0.9977 - loss: 0.0157 - val_accuracy: 0.8293 - val_loss: 0.5889 - learning_rate: 0.0010\n",
            "Epoch 4/100\n",
            "\u001b[1m154/154\u001b[0m \u001b[32m━━━━━━━━━━━━━━━━━━━━\u001b[0m\u001b[37m\u001b[0m \u001b[1m1s\u001b[0m 7ms/step - accuracy: 0.9999 - loss: 0.0089 - val_accuracy: 0.8085 - val_loss: 0.5469 - learning_rate: 0.0010\n",
            "Epoch 5/100\n",
            "\u001b[1m154/154\u001b[0m \u001b[32m━━━━━━━━━━━━━━━━━━━━\u001b[0m\u001b[37m\u001b[0m \u001b[1m1s\u001b[0m 9ms/step - accuracy: 1.0000 - loss: 0.0052 - val_accuracy: 0.8256 - val_loss: 0.5844 - learning_rate: 0.0010\n",
            "Epoch 6/100\n",
            "\u001b[1m154/154\u001b[0m \u001b[32m━━━━━━━━━━━━━━━━━━━━\u001b[0m\u001b[37m\u001b[0m \u001b[1m2s\u001b[0m 7ms/step - accuracy: 0.9996 - loss: 0.0033 - val_accuracy: 0.8329 - val_loss: 0.5638 - learning_rate: 0.0010\n",
            "Epoch 7/100\n",
            "\u001b[1m154/154\u001b[0m \u001b[32m━━━━━━━━━━━━━━━━━━━━\u001b[0m\u001b[37m\u001b[0m \u001b[1m1s\u001b[0m 6ms/step - accuracy: 0.9999 - loss: 0.0028 - val_accuracy: 0.8476 - val_loss: 0.5316 - learning_rate: 0.0010\n",
            "Epoch 8/100\n",
            "\u001b[1m154/154\u001b[0m \u001b[32m━━━━━━━━━━━━━━━━━━━━\u001b[0m\u001b[37m\u001b[0m \u001b[1m1s\u001b[0m 9ms/step - accuracy: 1.0000 - loss: 0.0020 - val_accuracy: 0.8488 - val_loss: 0.5328 - learning_rate: 0.0010\n",
            "Epoch 9/100\n",
            "\u001b[1m154/154\u001b[0m \u001b[32m━━━━━━━━━━━━━━━━━━━━\u001b[0m\u001b[37m\u001b[0m \u001b[1m2s\u001b[0m 9ms/step - accuracy: 1.0000 - loss: 0.0013 - val_accuracy: 0.8049 - val_loss: 0.6454 - learning_rate: 0.0010\n",
            "Epoch 10/100\n",
            "\u001b[1m154/154\u001b[0m \u001b[32m━━━━━━━━━━━━━━━━━━━━\u001b[0m\u001b[37m\u001b[0m \u001b[1m2s\u001b[0m 6ms/step - accuracy: 0.9999 - loss: 0.0016 - val_accuracy: 0.8244 - val_loss: 0.6042 - learning_rate: 0.0010\n",
            "Epoch 11/100\n",
            "\u001b[1m154/154\u001b[0m \u001b[32m━━━━━━━━━━━━━━━━━━━━\u001b[0m\u001b[37m\u001b[0m \u001b[1m1s\u001b[0m 9ms/step - accuracy: 1.0000 - loss: 0.0011 - val_accuracy: 0.7841 - val_loss: 0.6276 - learning_rate: 0.0010\n",
            "Epoch 12/100\n",
            "\u001b[1m154/154\u001b[0m \u001b[32m━━━━━━━━━━━━━━━━━━━━\u001b[0m\u001b[37m\u001b[0m \u001b[1m1s\u001b[0m 5ms/step - accuracy: 1.0000 - loss: 8.7160e-04 - val_accuracy: 0.8244 - val_loss: 0.5688 - learning_rate: 0.0010\n",
            "Epoch 13/100\n",
            "\u001b[1m154/154\u001b[0m \u001b[32m━━━━━━━━━━━━━━━━━━━━\u001b[0m\u001b[37m\u001b[0m \u001b[1m1s\u001b[0m 5ms/step - accuracy: 0.9999 - loss: 0.0011 - val_accuracy: 0.8073 - val_loss: 0.6653 - learning_rate: 5.0000e-04\n",
            "Epoch 14/100\n",
            "\u001b[1m154/154\u001b[0m \u001b[32m━━━━━━━━━━━━━━━━━━━━\u001b[0m\u001b[37m\u001b[0m \u001b[1m1s\u001b[0m 7ms/step - accuracy: 1.0000 - loss: 6.0728e-04 - val_accuracy: 0.8073 - val_loss: 0.6264 - learning_rate: 5.0000e-04\n",
            "Epoch 15/100\n",
            "\u001b[1m154/154\u001b[0m \u001b[32m━━━━━━━━━━━━━━━━━━━━\u001b[0m\u001b[37m\u001b[0m \u001b[1m2s\u001b[0m 9ms/step - accuracy: 1.0000 - loss: 5.1987e-04 - val_accuracy: 0.7866 - val_loss: 0.6467 - learning_rate: 5.0000e-04\n",
            "Epoch 16/100\n",
            "\u001b[1m154/154\u001b[0m \u001b[32m━━━━━━━━━━━━━━━━━━━━\u001b[0m\u001b[37m\u001b[0m \u001b[1m2s\u001b[0m 10ms/step - accuracy: 1.0000 - loss: 5.7496e-04 - val_accuracy: 0.7866 - val_loss: 0.6912 - learning_rate: 5.0000e-04\n",
            "Epoch 17/100\n",
            "\u001b[1m154/154\u001b[0m \u001b[32m━━━━━━━━━━━━━━━━━━━━\u001b[0m\u001b[37m\u001b[0m \u001b[1m2s\u001b[0m 9ms/step - accuracy: 1.0000 - loss: 8.9936e-04 - val_accuracy: 0.8268 - val_loss: 0.6331 - learning_rate: 5.0000e-04\n",
            "\u001b[1m154/154\u001b[0m \u001b[32m━━━━━━━━━━━━━━━━━━━━\u001b[0m\u001b[37m\u001b[0m \u001b[1m0s\u001b[0m 2ms/step\n"
          ]
        },
        {
          "output_type": "stream",
          "name": "stderr",
          "text": [
            "/usr/local/lib/python3.11/dist-packages/sklearn/metrics/_classification.py:1565: UndefinedMetricWarning: Precision is ill-defined and being set to 0.0 in labels with no predicted samples. Use `zero_division` parameter to control this behavior.\n",
            "  _warn_prf(average, modifier, f\"{metric.capitalize()} is\", len(result))\n",
            "/usr/local/lib/python3.11/dist-packages/sklearn/metrics/_classification.py:1565: UndefinedMetricWarning: Precision is ill-defined and being set to 0.0 in labels with no predicted samples. Use `zero_division` parameter to control this behavior.\n",
            "  _warn_prf(average, modifier, f\"{metric.capitalize()} is\", len(result))\n",
            "/usr/local/lib/python3.11/dist-packages/sklearn/metrics/_classification.py:1565: UndefinedMetricWarning: Precision is ill-defined and being set to 0.0 in labels with no predicted samples. Use `zero_division` parameter to control this behavior.\n",
            "  _warn_prf(average, modifier, f\"{metric.capitalize()} is\", len(result))\n",
            "WARNING:absl:You are saving your model as an HDF5 file via `model.save()` or `keras.saving.save_model(model)`. This file format is considered legacy. We recommend using instead the native Keras format, e.g. `model.save('my_model.keras')` or `keras.saving.save_model(model, 'my_model.keras')`. \n"
          ]
        },
        {
          "output_type": "stream",
          "name": "stdout",
          "text": [
            "Accuracy: 0.8476\n",
            "Classification Report:\n",
            "                                         precision    recall  f1-score   support\n",
            "\n",
            "(vertigo) Paroymsal  Positional Vertigo       1.00      1.00      1.00       120\n",
            "                                   AIDS       1.00      1.00      1.00       120\n",
            "                                   Acne       1.00      1.00      1.00       120\n",
            "                    Alcoholic hepatitis       1.00      1.00      1.00       120\n",
            "                                Allergy       0.91      1.00      0.95       120\n",
            "                              Arthritis       1.00      1.00      1.00       120\n",
            "                       Bronchial Asthma       0.83      1.00      0.91       120\n",
            "                   Cervical spondylosis       1.00      1.00      1.00       120\n",
            "                            Chicken pox       1.00      0.95      0.97       120\n",
            "                    Chronic cholestasis       1.00      1.00      1.00       120\n",
            "                            Common Cold       1.00      0.80      0.89       120\n",
            "                                 Dengue       1.00      0.95      0.97       120\n",
            "                              Diabetes        1.00      1.00      1.00       120\n",
            "           Dimorphic hemmorhoids(piles)       1.00      1.00      1.00       120\n",
            "                          Drug Reaction       1.00      1.00      1.00       120\n",
            "                       Fungal infection       1.00      1.00      1.00       120\n",
            "                                   GERD       1.00      1.00      1.00       120\n",
            "                        Gastroenteritis       1.00      1.00      1.00       120\n",
            "                           Heart attack       0.54      1.00      0.70       120\n",
            "                            Hepatitis B       0.00      0.00      0.00       120\n",
            "                            Hepatitis C       0.56      1.00      0.71       120\n",
            "                            Hepatitis D       0.46      0.95      0.62       120\n",
            "                            Hepatitis E       0.00      0.00      0.00       120\n",
            "                          Hypertension        1.00      1.00      1.00       120\n",
            "                        Hyperthyroidism       1.00      0.90      0.95       120\n",
            "                           Hypoglycemia       1.00      0.15      0.26       120\n",
            "                         Hypothyroidism       1.00      1.00      1.00       120\n",
            "                               Impetigo       1.00      1.00      1.00       120\n",
            "                               Jaundice       0.71      1.00      0.83       120\n",
            "                                Malaria       0.50      1.00      0.67       120\n",
            "                               Migraine       1.00      1.00      1.00       120\n",
            "                        Osteoarthristis       0.54      1.00      0.70       120\n",
            "           Paralysis (brain hemorrhage)       1.00      1.00      1.00       120\n",
            "                    Peptic ulcer diseae       1.00      1.00      1.00       120\n",
            "                              Pneumonia       1.00      0.05      0.10       120\n",
            "                              Psoriasis       1.00      1.00      1.00       120\n",
            "                           Tuberculosis       0.51      1.00      0.68       120\n",
            "                                Typhoid       0.00      0.00      0.00       120\n",
            "                Urinary tract infection       1.00      1.00      1.00       120\n",
            "                         Varicose veins       1.00      1.00      1.00       120\n",
            "                            hepatitis A       0.00      0.00      0.00       120\n",
            "\n",
            "                               accuracy                           0.85      4920\n",
            "                              macro avg       0.82      0.85      0.80      4920\n",
            "                           weighted avg       0.82      0.85      0.80      4920\n",
            "\n"
          ]
        },
        {
          "output_type": "execute_result",
          "data": {
            "text/plain": [
              "['/content/encoder.pkl']"
            ]
          },
          "metadata": {},
          "execution_count": 65
        }
      ]
    },
    {
      "cell_type": "code",
      "source": [
        "# Plot accuracy curve\n",
        "plt.figure(figsize=(6,4))\n",
        "plt.plot(history.history['accuracy'], label=\"Training Accuracy\", color='blue', marker=\"o\")\n",
        "plt.plot(history.history['val_accuracy'], label=\"Validation Accuracy\", color='green', marker=\"o\")\n",
        "plt.xlabel(\"Epochs\")\n",
        "plt.ylabel(\"Accuracy\")\n",
        "plt.title(\"Training vs Validation Accuracy\")\n",
        "plt.legend()\n",
        "plt.grid()\n",
        "plt.show()\n"
      ],
      "metadata": {
        "colab": {
          "base_uri": "https://localhost:8080/",
          "height": 410
        },
        "id": "hntuoSOYKi1O",
        "outputId": "9a854c01-f93f-498e-8ec6-62d7a5fdba7d"
      },
      "execution_count": 69,
      "outputs": [
        {
          "output_type": "display_data",
          "data": {
            "text/plain": [
              "<Figure size 600x400 with 1 Axes>"
            ],
            "image/png": "[encoded data removed]"
          },
          "metadata": {}
        }
      ]
    },
    {
      "cell_type": "code",
      "source": [
        "import matplotlib.pyplot as plt\n",
        "\n",
        "# Model names and their accuracies\n",
        "models = ['Random Forest', 'XGBoost', 'DL(50 Epochs)', 'DL (100 Epochs)']\n",
        "accuracies = [0.7098, 0.6207, 0.7341, 0.8476]\n",
        "\n",
        "# Plot bar chart\n",
        "plt.figure(figsize=(6,3))\n",
        "plt.bar(models, accuracies, color=['blue', 'green', 'orange', 'red'])\n",
        "\n",
        "# Add labels and title\n",
        "plt.xlabel(\"Models\")\n",
        "plt.ylabel(\"Accuracy\")\n",
        "plt.title(\"Model Accuracy Comparison\")\n",
        "plt.ylim(0, 1)  # Accuracy range from 0 to 1\n",
        "plt.grid(axis='y', linestyle='--', alpha=0.7)\n",
        "\n",
        "plt.xticks(rotation=45, ha='right')\n",
        "\n",
        "\n",
        "# Display accuracy values on top of bars\n",
        "for i, acc in enumerate(accuracies):\n",
        "    plt.text(i, acc + 0.02, f\"{acc:.4f}\", ha='center', fontsize=12)\n",
        "\n",
        "plt.show()\n"
      ],
      "metadata": {
        "colab": {
          "base_uri": "https://localhost:8080/",
          "height": 410
        },
        "id": "GgYISDcaM3Ig",
        "outputId": "a69fae9b-92a9-46e5-cf3c-ae1a0a14962d"
      },
      "execution_count": 76,
      "outputs": [
        {
          "output_type": "display_data",
          "data": {
            "text/plain": [
              "<Figure size 600x300 with 1 Axes>"
            ],
            "image/png": "[encoded data removed]"
          },
          "metadata": {}
        }
      ]
    },
    {
      "cell_type": "markdown",
      "source": [
        "PREDICTING OUTPUT\n"
      ],
      "metadata": {
        "id": "ZfqFaWXO0xJz"
      }
    },
    {
      "cell_type": "code",
      "source": [
        "\n",
        "# Function to get disease details\n",
        "def get_disease_details(predicted_disease):\n",
        "    matched_data = new_data_df[new_data_df['Disease'] == predicted_disease]\n",
        "    if matched_data.empty:\n",
        "        return \"No additional details available.\"\n",
        "    return matched_data.iloc[0].to_dict()\n",
        "\n",
        "# Function to take user input and predict disease\n",
        "def predict_disease_from_symptoms():\n",
        "    print(\"Enter symptoms one by one (type 'done' when finished):\")\n",
        "    user_symptoms = []\n",
        "    while True:\n",
        "        symptom = input(\"> \").strip().lower()\n",
        "        if symptom == \"done\":\n",
        "            break\n",
        "        user_symptoms.append(symptom)\n",
        "\n",
        "    symptom_columns = list(train_df.drop(columns=['prognosis']).columns)\n",
        "    user_input = np.zeros(len(symptom_columns))\n",
        "    for symptom in user_symptoms:\n",
        "        if symptom in symptom_columns:\n",
        "            user_input[symptom_columns.index(symptom)] = 1\n",
        "\n",
        "    user_input_scaled = scaler.transform([user_input])\n",
        "    prediction_probs = model.predict(user_input_scaled)[0]\n",
        "    top_3_indices = prediction_probs.argsort()[-3:][::-1]\n",
        "    top_3_diseases = encoder.inverse_transform(top_3_indices)\n",
        "    top_3_confidences = prediction_probs[top_3_indices]\n",
        "\n",
        "    print(\"\\n🔎 **Top 3 Predicted Diseases:**\")\n",
        "    for disease, confidence in zip(top_3_diseases, top_3_confidences):\n",
        "        print(f\"{disease}: {confidence:.2f}\")\n",
        "        details = get_disease_details(disease)\n",
        "        print(\"📌 **Additional Details:**\")\n",
        "        if isinstance(details, dict):\n",
        "            for key, value in details.items():\n",
        "                print(f\"  - {key}: {value}\")\n",
        "        else:\n",
        "            print(details)  # If no details found\n",
        "\n",
        "# Run the prediction function\n",
        "predict_disease_from_symptoms()"
      ],
      "metadata": {
        "colab": {
          "base_uri": "https://localhost:8080/"
        },
        "id": "pxURly8tgzHu",
        "outputId": "93141c4a-3c4d-4830-a134-a9b63c535020"
      },
      "execution_count": 29,
      "outputs": [
        {
          "output_type": "stream",
          "name": "stdout",
          "text": [
            "Enter symptoms one by one (type 'done' when finished):\n",
            "> skin_rash\n",
            "> irritation\n",
            "> nodal_skin_eruptions\n",
            "> done\n",
            "\u001b[1m1/1\u001b[0m \u001b[32m━━━━━━━━━━━━━━━━━━━━\u001b[0m\u001b[37m\u001b[0m \u001b[1m0s\u001b[0m 50ms/step\n",
            "\n",
            "🔎 **Top 3 Predicted Diseases:**\n",
            "Fungal infection: 0.98\n",
            "📌 **Additional Details:**\n",
            "  - Disease: Fungal infection\n",
            "  - description: Fungal infection is a common skin condition caused by fungi.\n",
            "  - medication: ['Antifungal Cream', 'Fluconazole', 'Terbinafine', 'Clotrimazole', 'Ketoconazole']\n",
            "  - diet: ['Antifungal Diet', 'Probiotics', 'Garlic', 'Coconut oil', 'Turmeric']\n",
            "  - Precaution_1: bath twice\n",
            "  - Precaution_2: use detol or neem in bathing water\n",
            "  - Precaution_3: keep infected area dry\n",
            "  - Precaution_4: use clean cloths\n",
            "  - Grouped_Workout_Advice: Avoid sugary foods, Consume probiotics, Increase intake of garlic, Include yogurt in diet, Limit processed foods, Stay hydrated, Consume green tea, Eat foods rich in zinc, Include turmeric in diet, Eat fruits and vegetables\n",
            "Impetigo: 0.01\n",
            "📌 **Additional Details:**\n",
            "  - Disease: Impetigo\n",
            "  - description: Impetigo is a highly contagious skin infection causing red sores that can break open.\n",
            "  - medication: ['Topical antibiotics', 'Oral antibiotics', 'Antiseptics', 'Ointments', 'Warm compresses']\n",
            "  - diet: ['Impetigo Diet', 'Antibiotic treatment', 'Fruits and vegetables', 'Hydration', 'Protein-rich foods']\n",
            "  - Precaution_1: soak affected area in warm water\n",
            "  - Precaution_2: use antibiotics\n",
            "  - Precaution_3: remove scabs with wet compressed cloth\n",
            "  - Precaution_4: consult doctor\n",
            "  - Grouped_Workout_Advice: Maintain good hygiene, Stay hydrated, Consume nutrient-rich foods, Limit sugary foods and beverages, Include foods rich in vitamin C, Consult a healthcare professional, Follow medical recommendations, Avoid scratching, Take prescribed antibiotics, Practice wound care\n",
            "Acne: 0.00\n",
            "📌 **Additional Details:**\n",
            "  - Disease: Acne\n",
            "  - description: Acne is a skin condition that occurs when hair follicles become clogged with oil and dead skin cells.\n",
            "  - medication: ['Antibiotics', 'Pain relievers', 'Antihistamines', 'Corticosteroids', 'Topical treatments']\n",
            "  - diet: ['Acne Diet', 'Low-Glycemic Diet', 'Hydration', 'Fruits and vegetables', 'Probiotics']\n",
            "  - Precaution_1: bath twice\n",
            "  - Precaution_2: avoid fatty spicy food\n",
            "  - Precaution_3: drink plenty of water\n",
            "  - Precaution_4: avoid too many products\n",
            "  - Grouped_Workout_Advice: Consume a balanced diet, Limit dairy and high-glycemic foods, Include antioxidants, Stay hydrated, Limit processed foods, Include zinc-rich foods, Consult a skincare professional, Practice good skincare hygiene, Limit sugary foods and beverages, Follow medical recommendations\n"
          ]
        }
      ]
    },
    {
      "cell_type": "code",
      "source": [
        "!pip install gradio\n",
        "import numpy as np\n",
        "import tensorflow as tf\n",
        "import pickle\n",
        "import gradio as gr\n",
        "import pandas as pd\n",
        "from sklearn.preprocessing import MinMaxScaler, LabelEncoder\n",
        "\n",
        "# Load trained model\n",
        "# Load trained model\n",
        "model = tf.keras.models.load_model(\"/content/disease_model.h5\",compile=True)\n",
        "\n",
        "# Fix: Compile the model after loading to build the missing metrics\n",
        "model.compile(optimizer=\"adam\", loss=\"categorical_crossentropy\", metrics=[\"accuracy\"])\n",
        "\n",
        "# Save the trained model\n",
        "model.save(\"model.h5\", save_format=\"h5\")\n",
        "\n",
        "\n",
        "# Load Label Encoder safely\n",
        "try:\n",
        "    with open(\"/content/encoder.pkl\", \"rb\") as f:\n",
        "        encoder = pickle.load(f)\n",
        "    if not isinstance(encoder, LabelEncoder) or not hasattr(encoder, \"classes_\"):\n",
        "        print(\"⚠️ Warning: `encoder.pkl` is not valid. Re-fitting now.\")\n",
        "        encoder = LabelEncoder()\n",
        "except:\n",
        "    print(\"⚠️ Warning: Failed to load `encoder.pkl`. Creating a new LabelEncoder.\")\n",
        "    encoder = LabelEncoder()\n",
        "\n",
        "# Load dataset\n",
        "train_df = pd.read_csv(\"/content/Training.csv\")\n",
        "\n",
        "# Identify disease column\n",
        "for col in train_df.columns:\n",
        "    if col.strip().lower() == \"prognosis\":\n",
        "        disease_col = col\n",
        "        break\n",
        "else:\n",
        "    raise ValueError(\"⚠️ Error: 'Disease' column not found in Training.csv. Please check column names.\")\n",
        "\n",
        "# Fit LabelEncoder\n",
        "encoder.fit(train_df[disease_col])\n",
        "\n",
        "# Save corrected encoder\n",
        "with open(\"/content/encoder.pkl\", \"wb\") as f:\n",
        "    pickle.dump(encoder, f)\n",
        "\n",
        "# Load MinMaxScaler safely\n",
        "try:\n",
        "    with open(\"/content/scaler.pkl\", \"rb\") as f:\n",
        "        scaler = pickle.load(f)\n",
        "    if not isinstance(scaler, MinMaxScaler) or not hasattr(scaler, \"data_min_\"):\n",
        "        print(\"⚠️ Warning: `scaler.pkl` is invalid. Re-fitting now.\")\n",
        "        scaler = MinMaxScaler()\n",
        "except:\n",
        "    print(\"⚠️ Warning: Failed to load `scaler.pkl`. Creating a new MinMaxScaler.\")\n",
        "    scaler = MinMaxScaler()\n",
        "\n",
        "# Fit scaler if necessary\n",
        "X_train = train_df.iloc[:, :-1].values\n",
        "if not hasattr(scaler, \"data_min_\"):\n",
        "    print(\"🔄 Fitting MinMaxScaler on training data...\")\n",
        "    scaler.fit(X_train)\n",
        "\n",
        "# Save the fitted scaler\n",
        "with open(\"/content/scaler.pkl\", \"wb\") as f:\n",
        "    pickle.dump(scaler, f)\n",
        "\n",
        "# Load additional disease information\n",
        "data_df = pd.read_csv(\"/content/new_data3.csv\")\n",
        "\n",
        "# Get symptom columns\n",
        "symptom_columns = train_df.columns[:-1]\n",
        "\n",
        "def transform_input(user_symptoms):\n",
        "    input_vector = np.zeros(len(symptom_columns))\n",
        "    for i, col in enumerate(symptom_columns):\n",
        "        if col.lower() in user_symptoms:\n",
        "            input_vector[i] = 1\n",
        "    return scaler.transform([input_vector])\n",
        "\n",
        "def get_disease_info(disease_name):\n",
        "    details = data_df[data_df['Disease'] == disease_name].iloc[0] if not data_df[data_df['Disease'] == disease_name].empty else None\n",
        "\n",
        "    return {\n",
        "        \"description\": details[\"description\"] if details is not None else \"No description available.\",\n",
        "        \"medication\": eval(details[\"medication\"]) if details is not None else [],\n",
        "        \"diet\": eval(details[\"diet\"]) if details is not None else [],\n",
        "        \"precautions\": [details[\"Precaution_1\"], details[\"Precaution_2\"], details[\"Precaution_3\"], details[\"Precaution_4\"]] if details is not None else [],\n",
        "        \"workout_advice\": details[\"Grouped_Workout_Advice\"] if details is not None else \"No advice available.\"\n",
        "    }\n",
        "\n",
        "def get_top_diseases(symptoms):\n",
        "    input_data = transform_input(symptoms)\n",
        "    prediction_probs = model.predict(input_data)[0]\n",
        "    top_3_indices = prediction_probs.argsort()[-3:][::-1]\n",
        "    top_3_diseases = encoder.inverse_transform(top_3_indices)\n",
        "    top_3_probs = prediction_probs[top_3_indices]\n",
        "    return list(zip(top_3_diseases, top_3_probs))\n",
        "\n",
        "def chatbot_response(user_input):\n",
        "    try:\n",
        "        symptoms = [sym.strip().lower() for sym in user_input.split(\",\")]\n",
        "        predictions = get_top_diseases(symptoms)\n",
        "        response = \"🔎 **Predicted Diseases:**\\n\\n\"\n",
        "        for disease, prob in predictions:\n",
        "            info = get_disease_info(disease)\n",
        "            response += f\"🔹 **{disease}** ({prob:.2f} confidence)\\n\"\n",
        "            response += f\"📌 **Description:** {info['description']}\\n\"\n",
        "            response += f\"💊 **Medications:** {', '.join(info['medication'])}\\n\"\n",
        "            response += f\"🥗 **Recommended Diet:** {', '.join(info['diet'])}\\n\"\n",
        "            response += f\"⚠️ **Precautions:** {', '.join(info['precautions'])}\\n\"\n",
        "            response += f\"🏋 **Workout Advice:** {info['workout_advice']}\\n\\n\"\n",
        "        return response\n",
        "    except Exception as e:\n",
        "        return f\"⚠️ Error: {str(e)}\"\n",
        "\n",
        "iface = gr.Interface(fn=chatbot_response, inputs=\"text\", outputs=\"text\",\n",
        "                     title=\"Disease Prediction Chatbot\",\n",
        "                     description=\"Enter symptoms separated by commas (e.g., fever, headache, nausea) to get disease predictions.\")\n",
        "\n",
        "iface.launch(share=True, debug=True)\n",
        "\n"
      ],
      "metadata": {
        "colab": {
          "base_uri": "https://localhost:8080/",
          "height": 1000
        },
        "id": "tSFp827ZosR3",
        "outputId": "f2155936-8bd0-4018-96b4-e3a07d005d23"
      },
      "execution_count": 30,
      "outputs": [
        {
          "output_type": "stream",
          "name": "stdout",
          "text": [
            "Requirement already satisfied: gradio in /usr/local/lib/python3.11/dist-packages (5.22.0)\n",
            "Requirement already satisfied: aiofiles<24.0,>=22.0 in /usr/local/lib/python3.11/dist-packages (from gradio) (23.2.1)\n",
            "Requirement already satisfied: anyio<5.0,>=3.0 in /usr/local/lib/python3.11/dist-packages (from gradio) (4.9.0)\n",
            "Requirement already satisfied: fastapi<1.0,>=0.115.2 in /usr/local/lib/python3.11/dist-packages (from gradio) (0.115.11)\n",
            "Requirement already satisfied: ffmpy in /usr/local/lib/python3.11/dist-packages (from gradio) (0.5.0)\n",
            "Requirement already satisfied: gradio-client==1.8.0 in /usr/local/lib/python3.11/dist-packages (from gradio) (1.8.0)\n",
            "Requirement already satisfied: groovy~=0.1 in /usr/local/lib/python3.11/dist-packages (from gradio) (0.1.2)\n",
            "Requirement already satisfied: httpx>=0.24.1 in /usr/local/lib/python3.11/dist-packages (from gradio) (0.28.1)\n",
            "Requirement already satisfied: huggingface-hub>=0.28.1 in /usr/local/lib/python3.11/dist-packages (from gradio) (0.29.3)\n",
            "Requirement already satisfied: jinja2<4.0 in /usr/local/lib/python3.11/dist-packages (from gradio) (3.1.6)\n",
            "Requirement already satisfied: markupsafe<4.0,>=2.0 in /usr/local/lib/python3.11/dist-packages (from gradio) (3.0.2)\n",
            "Requirement already satisfied: numpy<3.0,>=1.0 in /usr/local/lib/python3.11/dist-packages (from gradio) (2.0.2)\n",
            "Requirement already satisfied: orjson~=3.0 in /usr/local/lib/python3.11/dist-packages (from gradio) (3.10.15)\n",
            "Requirement already satisfied: packaging in /usr/local/lib/python3.11/dist-packages (from gradio) (24.2)\n",
            "Requirement already satisfied: pandas<3.0,>=1.0 in /usr/local/lib/python3.11/dist-packages (from gradio) (2.2.2)\n",
            "Requirement already satisfied: pillow<12.0,>=8.0 in /usr/local/lib/python3.11/dist-packages (from gradio) (11.1.0)\n",
            "Requirement already satisfied: pydantic>=2.0 in /usr/local/lib/python3.11/dist-packages (from gradio) (2.10.6)\n",
            "Requirement already satisfied: pydub in /usr/local/lib/python3.11/dist-packages (from gradio) (0.25.1)\n",
            "Requirement already satisfied: python-multipart>=0.0.18 in /usr/local/lib/python3.11/dist-packages (from gradio) (0.0.20)\n",
            "Requirement already satisfied: pyyaml<7.0,>=5.0 in /usr/local/lib/python3.11/dist-packages (from gradio) (6.0.2)\n",
            "Requirement already satisfied: ruff>=0.9.3 in /usr/local/lib/python3.11/dist-packages (from gradio) (0.11.2)\n",
            "Requirement already satisfied: safehttpx<0.2.0,>=0.1.6 in /usr/local/lib/python3.11/dist-packages (from gradio) (0.1.6)\n",
            "Requirement already satisfied: semantic-version~=2.0 in /usr/local/lib/python3.11/dist-packages (from gradio) (2.10.0)\n",
            "Requirement already satisfied: starlette<1.0,>=0.40.0 in /usr/local/lib/python3.11/dist-packages (from gradio) (0.46.1)\n",
            "Requirement already satisfied: tomlkit<0.14.0,>=0.12.0 in /usr/local/lib/python3.11/dist-packages (from gradio) (0.13.2)\n",
            "Requirement already satisfied: typer<1.0,>=0.12 in /usr/local/lib/python3.11/dist-packages (from gradio) (0.15.2)\n",
            "Requirement already satisfied: typing-extensions~=4.0 in /usr/local/lib/python3.11/dist-packages (from gradio) (4.12.2)\n",
            "Requirement already satisfied: uvicorn>=0.14.0 in /usr/local/lib/python3.11/dist-packages (from gradio) (0.34.0)\n",
            "Requirement already satisfied: fsspec in /usr/local/lib/python3.11/dist-packages (from gradio-client==1.8.0->gradio) (2025.3.0)\n",
            "Requirement already satisfied: websockets<16.0,>=10.0 in /usr/local/lib/python3.11/dist-packages (from gradio-client==1.8.0->gradio) (14.2)\n",
            "Requirement already satisfied: idna>=2.8 in /usr/local/lib/python3.11/dist-packages (from anyio<5.0,>=3.0->gradio) (3.10)\n",
            "Requirement already satisfied: sniffio>=1.1 in /usr/local/lib/python3.11/dist-packages (from anyio<5.0,>=3.0->gradio) (1.3.1)\n",
            "Requirement already satisfied: certifi in /usr/local/lib/python3.11/dist-packages (from httpx>=0.24.1->gradio) (2025.1.31)\n",
            "Requirement already satisfied: httpcore==1.* in /usr/local/lib/python3.11/dist-packages (from httpx>=0.24.1->gradio) (1.0.7)\n",
            "Requirement already satisfied: h11<0.15,>=0.13 in /usr/local/lib/python3.11/dist-packages (from httpcore==1.*->httpx>=0.24.1->gradio) (0.14.0)\n",
            "Requirement already satisfied: filelock in /usr/local/lib/python3.11/dist-packages (from huggingface-hub>=0.28.1->gradio) (3.18.0)\n",
            "Requirement already satisfied: requests in /usr/local/lib/python3.11/dist-packages (from huggingface-hub>=0.28.1->gradio) (2.32.3)\n",
            "Requirement already satisfied: tqdm>=4.42.1 in /usr/local/lib/python3.11/dist-packages (from huggingface-hub>=0.28.1->gradio) (4.67.1)\n",
            "Requirement already satisfied: python-dateutil>=2.8.2 in /usr/local/lib/python3.11/dist-packages (from pandas<3.0,>=1.0->gradio) (2.8.2)\n",
            "Requirement already satisfied: pytz>=2020.1 in /usr/local/lib/python3.11/dist-packages (from pandas<3.0,>=1.0->gradio) (2025.1)\n",
            "Requirement already satisfied: tzdata>=2022.7 in /usr/local/lib/python3.11/dist-packages (from pandas<3.0,>=1.0->gradio) (2025.1)\n",
            "Requirement already satisfied: annotated-types>=0.6.0 in /usr/local/lib/python3.11/dist-packages (from pydantic>=2.0->gradio) (0.7.0)\n",
            "Requirement already satisfied: pydantic-core==2.27.2 in /usr/local/lib/python3.11/dist-packages (from pydantic>=2.0->gradio) (2.27.2)\n",
            "Requirement already satisfied: click>=8.0.0 in /usr/local/lib/python3.11/dist-packages (from typer<1.0,>=0.12->gradio) (8.1.8)\n",
            "Requirement already satisfied: shellingham>=1.3.0 in /usr/local/lib/python3.11/dist-packages (from typer<1.0,>=0.12->gradio) (1.5.4)\n",
            "Requirement already satisfied: rich>=10.11.0 in /usr/local/lib/python3.11/dist-packages (from typer<1.0,>=0.12->gradio) (13.9.4)\n",
            "Requirement already satisfied: six>=1.5 in /usr/local/lib/python3.11/dist-packages (from python-dateutil>=2.8.2->pandas<3.0,>=1.0->gradio) (1.17.0)\n",
            "Requirement already satisfied: markdown-it-py>=2.2.0 in /usr/local/lib/python3.11/dist-packages (from rich>=10.11.0->typer<1.0,>=0.12->gradio) (3.0.0)\n",
            "Requirement already satisfied: pygments<3.0.0,>=2.13.0 in /usr/local/lib/python3.11/dist-packages (from rich>=10.11.0->typer<1.0,>=0.12->gradio) (2.18.0)\n",
            "Requirement already satisfied: charset-normalizer<4,>=2 in /usr/local/lib/python3.11/dist-packages (from requests->huggingface-hub>=0.28.1->gradio) (3.4.1)\n",
            "Requirement already satisfied: urllib3<3,>=1.21.1 in /usr/local/lib/python3.11/dist-packages (from requests->huggingface-hub>=0.28.1->gradio) (2.3.0)\n",
            "Requirement already satisfied: mdurl~=0.1 in /usr/local/lib/python3.11/dist-packages (from markdown-it-py>=2.2.0->rich>=10.11.0->typer<1.0,>=0.12->gradio) (0.1.2)\n"
          ]
        },
        {
          "output_type": "stream",
          "name": "stderr",
          "text": [
            "WARNING:absl:Compiled the loaded model, but the compiled metrics have yet to be built. `model.compile_metrics` will be empty until you train or evaluate the model.\n",
            "WARNING:absl:The `save_format` argument is deprecated in Keras 3. We recommend removing this argument as it can be inferred from the file path. Received: save_format=h5\n",
            "WARNING:absl:You are saving your model as an HDF5 file via `model.save()` or `keras.saving.save_model(model)`. This file format is considered legacy. We recommend using instead the native Keras format, e.g. `model.save('my_model.keras')` or `keras.saving.save_model(model, 'my_model.keras')`. \n"
          ]
        },
        {
          "output_type": "stream",
          "name": "stdout",
          "text": [
            "Colab notebook detected. This cell will run indefinitely so that you can see errors and logs. To turn off, set debug=False in launch().\n",
            "* Running on public URL: https://72a57c02cc4116baa1.gradio.live\n",
            "\n",
            "This share link expires in 72 hours. For free permanent hosting and GPU upgrades, run `gradio deploy` from the terminal in the working directory to deploy to Hugging Face Spaces (https://huggingface.co/spaces)\n"
          ]
        },
        {
          "output_type": "display_data",
          "data": {
            "text/plain": [
              "<IPython.core.display.HTML object>"
            ],
            "text/html": [
              "<div><iframe src=\"https://72a57c02cc4116baa1.gradio.live\" width=\"100%\" height=\"500\" allow=\"autoplay; camera; microphone; clipboard-read; clipboard-write;\" frameborder=\"0\" allowfullscreen></iframe></div>"
            ]
          },
          "metadata": {}
        },
        {
          "output_type": "stream",
          "name": "stdout",
          "text": [
            "\u001b[1m1/1\u001b[0m \u001b[32m━━━━━━━━━━━━━━━━━━━━\u001b[0m\u001b[37m\u001b[0m \u001b[1m0s\u001b[0m 107ms/step\n",
            "Keyboard interruption in main thread... closing server.\n",
            "Killing tunnel 127.0.0.1:7860 <> https://72a57c02cc4116baa1.gradio.live\n"
          ]
        },
        {
          "output_type": "execute_result",
          "data": {
            "text/plain": []
          },
          "metadata": {},
          "execution_count": 30
        }
      ]
    },
    {
      "cell_type": "code",
      "source": [
        "ui_code =\"\"\"import numpy as np\n",
        "import tensorflow as tf\n",
        "import pickle\n",
        "import gradio as gr\n",
        "import pandas as pd\n",
        "from sklearn.preprocessing import MinMaxScaler, LabelEncoder\n",
        "\n",
        "# Load trained model\n",
        "# Load trained model\n",
        "model = tf.keras.models.load_model(\"/content/disease_model.h5\",compile=True)\n",
        "\n",
        "# Fix: Compile the model after loading to build the missing metrics\n",
        "model.compile(optimizer=\"adam\", loss=\"categorical_crossentropy\", metrics=[\"accuracy\"])\n",
        "\n",
        "# Save the trained model\n",
        "model.save(\"model.h5\", save_format=\"h5\")\n",
        "\n",
        "\n",
        "# Load Label Encoder safely\n",
        "try:\n",
        "    with open(\"/content/encoder.pkl\", \"rb\") as f:\n",
        "        encoder = pickle.load(f)\n",
        "    if not isinstance(encoder, LabelEncoder) or not hasattr(encoder, \"classes_\"):\n",
        "        print(\"⚠️ Warning: `encoder.pkl` is not valid. Re-fitting now.\")\n",
        "        encoder = LabelEncoder()\n",
        "except:\n",
        "    print(\"⚠️ Warning: Failed to load `encoder.pkl`. Creating a new LabelEncoder.\")\n",
        "    encoder = LabelEncoder()\n",
        "\n",
        "# Load dataset\n",
        "train_df = pd.read_csv(\"/content/Training.csv\")\n",
        "\n",
        "# Identify disease column\n",
        "for col in train_df.columns:\n",
        "    if col.strip().lower() == \"prognosis\":\n",
        "        disease_col = col\n",
        "        break\n",
        "else:\n",
        "    raise ValueError(\"⚠️ Error: 'Disease' column not found in Training.csv. Please check column names.\")\n",
        "\n",
        "# Fit LabelEncoder\n",
        "encoder.fit(train_df[disease_col])\n",
        "\n",
        "# Save corrected encoder\n",
        "with open(\"/content/encoder.pkl\", \"wb\") as f:\n",
        "    pickle.dump(encoder, f)\n",
        "\n",
        "# Load MinMaxScaler safely\n",
        "try:\n",
        "    with open(\"/content/scaler.pkl\", \"rb\") as f:\n",
        "        scaler = pickle.load(f)\n",
        "    if not isinstance(scaler, MinMaxScaler) or not hasattr(scaler, \"data_min_\"):\n",
        "        print(\"⚠️ Warning: `scaler.pkl` is invalid. Re-fitting now.\")\n",
        "        scaler = MinMaxScaler()\n",
        "except:\n",
        "    print(\"⚠️ Warning: Failed to load `scaler.pkl`. Creating a new MinMaxScaler.\")\n",
        "    scaler = MinMaxScaler()\n",
        "\n",
        "# Fit scaler if necessary\n",
        "X_train = train_df.iloc[:, :-1].values\n",
        "if not hasattr(scaler, \"data_min_\"):\n",
        "    print(\"🔄 Fitting MinMaxScaler on training data...\")\n",
        "    scaler.fit(X_train)\n",
        "\n",
        "# Save the fitted scaler\n",
        "with open(\"/content/scaler.pkl\", \"wb\") as f:\n",
        "    pickle.dump(scaler, f)\n",
        "\n",
        "# Load additional disease information\n",
        "data_df = pd.read_csv(\"/content/new_data3.csv\")\n",
        "\n",
        "# Get symptom columns\n",
        "symptom_columns = train_df.columns[:-1]\n",
        "\n",
        "def transform_input(user_symptoms):\n",
        "    input_vector = np.zeros(len(symptom_columns))\n",
        "    for i, col in enumerate(symptom_columns):\n",
        "        if col.lower() in user_symptoms:\n",
        "            input_vector[i] = 1\n",
        "    return scaler.transform([input_vector])\n",
        "\n",
        "def get_disease_info(disease_name):\n",
        "    details = data_df[data_df['Disease'] == disease_name].iloc[0] if not data_df[data_df['Disease'] == disease_name].empty else None\n",
        "\n",
        "    return {\n",
        "        \"description\": details[\"description\"] if details is not None else \"No description available.\",\n",
        "        \"medication\": eval(details[\"medication\"]) if details is not None else [],\n",
        "        \"diet\": eval(details[\"diet\"]) if details is not None else [],\n",
        "        \"precautions\": [details[\"Precaution_1\"], details[\"Precaution_2\"], details[\"Precaution_3\"], details[\"Precaution_4\"]] if details is not None else [],\n",
        "        \"workout_advice\": details[\"Grouped_Workout_Advice\"] if details is not None else \"No advice available.\"\n",
        "    }\n",
        "\n",
        "def get_top_diseases(symptoms):\n",
        "    input_data = transform_input(symptoms)\n",
        "    prediction_probs = model.predict(input_data)[0]\n",
        "    top_3_indices = prediction_probs.argsort()[-3:][::-1]\n",
        "    top_3_diseases = encoder.inverse_transform(top_3_indices)\n",
        "    top_3_probs = prediction_probs[top_3_indices]\n",
        "    return list(zip(top_3_diseases, top_3_probs))\n",
        "\n",
        "def chatbot_response(user_input):\n",
        "    try:\n",
        "        symptoms = [sym.strip().lower() for sym in user_input.split(\",\")]\n",
        "        predictions = get_top_diseases(symptoms)\n",
        "        response = \"🔎 **Predicted Diseases:**\\n\\n\"\n",
        "        for disease, prob in predictions:\n",
        "            info = get_disease_info(disease)\n",
        "            response += f\"🔹 **{disease}** ({prob:.2f} confidence)\\n\"\n",
        "            response += f\"📌 **Description:** {info['description']}\\n\"\n",
        "            response += f\"💊 **Medications:** {', '.join(info['medication'])}\\n\"\n",
        "            response += f\"🥗 **Recommended Diet:** {', '.join(info['diet'])}\\n\"\n",
        "            response += f\"⚠️ **Precautions:** {', '.join(info['precautions'])}\\n\"\n",
        "            response += f\"🏋 **Workout Advice:** {info['workout_advice']}\\n\\n\"\n",
        "        return response\n",
        "    except Exception as e:\n",
        "        return f\"⚠️ Error: {str(e)}\"\n",
        "\n",
        "iface = gr.Interface(fn=chatbot_response, inputs=\"text\", outputs=\"text\",\n",
        "                     title=\"Disease Prediction Chatbot\",\n",
        "                     description=\"Enter symptoms separated by commas (e.g., fever, headache, nausea) to get disease predictions.\")\n",
        "\n",
        "iface.launch(share=True, debug=True)\"\"\"\n",
        "\n",
        "# Save to app.py\n",
        "with open(\"app.py\", \"w\") as f:\n",
        "    f.write(ui_code)\n",
        "\n",
        "print(\"✅ app.py saved successfully!\")"
      ],
      "metadata": {
        "colab": {
          "base_uri": "https://localhost:8080/"
        },
        "id": "YoxghbP33Glq",
        "outputId": "890d4c5a-7819-4ebd-b1f3-697d43b02ebf"
      },
      "execution_count": 31,
      "outputs": [
        {
          "output_type": "stream",
          "name": "stdout",
          "text": [
            "✅ app.py saved successfully!\n"
          ]
        }
      ]
    }
  ]
}